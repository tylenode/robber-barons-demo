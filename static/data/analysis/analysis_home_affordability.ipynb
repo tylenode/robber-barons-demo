{
 "cells": [
  {
   "cell_type": "code",
   "execution_count": 41,
   "id": "b6248480",
   "metadata": {},
   "outputs": [],
   "source": [
    "import polars as pl\n",
    "dataset = 'ATNHPIUS14454Q.csv'"
   ]
  },
  {
   "cell_type": "code",
   "execution_count": 42,
   "id": "79249ddd",
   "metadata": {},
   "outputs": [
    {
     "data": {
      "text/html": [
       "<div><style>\n",
       ".dataframe > thead > tr,\n",
       ".dataframe > tbody > tr {\n",
       "  text-align: right;\n",
       "  white-space: pre-wrap;\n",
       "}\n",
       "</style>\n",
       "<small>shape: (30, 2)</small><table border=\"1\" class=\"dataframe\"><thead><tr><th>ATNHPIUS14454Q</th><th>year</th></tr><tr><td>f64</td><td>i64</td></tr></thead><tbody><tr><td>100.0</td><td>1995</td></tr><tr><td>108.75</td><td>1996</td></tr><tr><td>115.21</td><td>1997</td></tr><tr><td>125.18</td><td>1998</td></tr><tr><td>142.39</td><td>1999</td></tr><tr><td>&hellip;</td><td>&hellip;</td></tr><tr><td>335.29</td><td>2020</td></tr><tr><td>385.53</td><td>2021</td></tr><tr><td>415.54</td><td>2022</td></tr><tr><td>452.8</td><td>2023</td></tr><tr><td>476.77</td><td>2024</td></tr></tbody></table></div>"
      ],
      "text/plain": [
       "shape: (30, 2)\n",
       "┌────────────────┬──────┐\n",
       "│ ATNHPIUS14454Q ┆ year │\n",
       "│ ---            ┆ ---  │\n",
       "│ f64            ┆ i64  │\n",
       "╞════════════════╪══════╡\n",
       "│ 100.0          ┆ 1995 │\n",
       "│ 108.75         ┆ 1996 │\n",
       "│ 115.21         ┆ 1997 │\n",
       "│ 125.18         ┆ 1998 │\n",
       "│ 142.39         ┆ 1999 │\n",
       "│ …              ┆ …    │\n",
       "│ 335.29         ┆ 2020 │\n",
       "│ 385.53         ┆ 2021 │\n",
       "│ 415.54         ┆ 2022 │\n",
       "│ 452.8          ┆ 2023 │\n",
       "│ 476.77         ┆ 2024 │\n",
       "└────────────────┴──────┘"
      ]
     },
     "execution_count": 42,
     "metadata": {},
     "output_type": "execute_result"
    }
   ],
   "source": [
    "def new_df():\n",
    "    df = pl.read_csv(dataset)\n",
    "    df = (\n",
    "        df.with_columns(\n",
    "            pl.col(\"observation_date\").str.split(\"-\").list.get(0).cast(int).alias(\"year\")\n",
    "        )\n",
    "    )\n",
    "    df = df.filter(pl.col(\"year\") >= 1995)\n",
    "    df = df.drop(\"observation_date\")\n",
    "    df_1995 = df.filter(pl.col(\"year\") == 1995).unique(subset=\"year\", keep=\"first\")\n",
    "    df_other = df.filter(pl.col(\"year\") != 1995).unique(subset=\"year\", keep=\"last\")\n",
    "    df = pl.concat([df_1995, df_other])\n",
    "    return df.sort(\"year\")\n",
    "\n",
    "df = new_df()\n",
    "df\n"
   ]
  },
  {
   "cell_type": "code",
   "execution_count": null,
   "id": "62fcdd1c",
   "metadata": {},
   "outputs": [
    {
     "data": {
      "text/plain": [
       "[100.0,\n",
       " 108.75,\n",
       " 115.21,\n",
       " 125.18,\n",
       " 142.39,\n",
       " 163.77,\n",
       " 183.35,\n",
       " 208.14,\n",
       " 231.18,\n",
       " 256.33,\n",
       " 272.45,\n",
       " 266.56,\n",
       " 254.3,\n",
       " 240.16,\n",
       " 230.02,\n",
       " 229.98,\n",
       " 225.73,\n",
       " 226.85,\n",
       " 234.51,\n",
       " 247.72,\n",
       " 259.61,\n",
       " 274.78,\n",
       " 290.37,\n",
       " 303.11,\n",
       " 317.26,\n",
       " 335.29,\n",
       " 385.53,\n",
       " 415.54,\n",
       " 452.8,\n",
       " 476.77]"
      ]
     },
     "execution_count": 43,
     "metadata": {},
     "output_type": "execute_result"
    }
   ],
   "source": [
    "# convert to list\n",
    "def to_list(df):\n",
    "    return df.select(pl.col(\"ATNHPIUS14454Q\")).to_series().to_list()\n",
    "# I added a value for 2025 (used 2024)\n",
    "# made 2024 value of 2024-07-01\n",
    "to_list(df)"
   ]
  },
  {
   "cell_type": "code",
   "execution_count": 44,
   "id": "684fee5e",
   "metadata": {},
   "outputs": [
    {
     "data": {
      "text/plain": [
       "31"
      ]
     },
     "execution_count": 44,
     "metadata": {},
     "output_type": "execute_result"
    }
   ],
   "source": [
    "a= [100.0,\n",
    " 108.75,\n",
    " 115.21,\n",
    " 125.18,\n",
    " 142.39,\n",
    " 163.77,\n",
    " 183.35,\n",
    " 208.14,\n",
    " 231.18,\n",
    " 256.33,\n",
    " 272.45,\n",
    " 266.56,\n",
    " 254.3,\n",
    " 240.16,\n",
    " 230.02,\n",
    " 229.98,\n",
    " 225.73,\n",
    " 226.85,\n",
    " 234.51,\n",
    " 247.72,\n",
    " 259.61,\n",
    " 274.78,\n",
    " 290.37,\n",
    " 303.11,\n",
    " 317.26,\n",
    " 335.29,\n",
    " 385.53,\n",
    " 415.54,\n",
    " 452.8,\n",
    " 475.04,\n",
    " 476.77]\n",
    "\n",
    "len(a)"
   ]
  },
  {
   "cell_type": "code",
   "execution_count": 45,
   "id": "c8e951bf",
   "metadata": {},
   "outputs": [
    {
     "data": {
      "text/plain": [
       "31"
      ]
     },
     "execution_count": 45,
     "metadata": {},
     "output_type": "execute_result"
    }
   ],
   "source": [
    "b = ['1995', '1996', '1997', '1998', '1999', '2000', '2001', '2002', '2003', '2004', '2005', '2006', '2007', '2008', '2009', '2010', '2011', '2012', '2013', '2014', '2015', '2016', '2017', '2018', '2019', '2020', '2021', '2022', '2023', '2024', '2025']\n",
    "len(b)"
   ]
  }
 ],
 "metadata": {
  "kernelspec": {
   "display_name": "3.11.3",
   "language": "python",
   "name": "python3"
  },
  "language_info": {
   "codemirror_mode": {
    "name": "ipython",
    "version": 3
   },
   "file_extension": ".py",
   "mimetype": "text/x-python",
   "name": "python",
   "nbconvert_exporter": "python",
   "pygments_lexer": "ipython3",
   "version": "3.11.3"
  }
 },
 "nbformat": 4,
 "nbformat_minor": 5
}
