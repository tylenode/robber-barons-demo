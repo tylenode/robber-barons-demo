{
 "cells": [
  {
   "cell_type": "code",
   "execution_count": 77,
   "id": "73e7c8b3",
   "metadata": {},
   "outputs": [],
   "source": [
    "dataset = 'A2_EDA_Residential.csv'"
   ]
  },
  {
   "cell_type": "code",
   "execution_count": 78,
   "id": "45984f78",
   "metadata": {},
   "outputs": [],
   "source": [
    "import polars as pl"
   ]
  },
  {
   "cell_type": "code",
   "execution_count": 79,
   "id": "5f56a97c",
   "metadata": {},
   "outputs": [
    {
     "data": {
      "text/html": [
       "<div><style>\n",
       ".dataframe > thead > tr,\n",
       ".dataframe > tbody > tr {\n",
       "  text-align: right;\n",
       "  white-space: pre-wrap;\n",
       "}\n",
       "</style>\n",
       "<small>shape: (5, 65)</small><table border=\"1\" class=\"dataframe\"><thead><tr><th>address</th><th>street</th><th>proptype</th><th>date</th><th>price</th><th>prsldate</th><th>prslpr</th><th>mortgage</th><th>usecode</th><th>usage</th><th>style</th><th>yearbuilt</th><th>totrooms</th><th>bathrooms</th><th>bedrooms</th><th>lotsize</th><th>intersf</th><th>lasqbin</th><th>amenity</th><th>zip</th><th>lat</th><th>lon</th><th>year</th><th>cash_sale</th><th>buyer_llc_ind</th><th>buyer_bus_ind</th><th>buyer_trst_ind</th><th>buyer_bnk_ind</th><th>buyer_gse_ind</th><th>buyer_gov_ind</th><th>seller_llc_ind</th><th>seller_llp_ind</th><th>seller_bus_ind</th><th>seller_trst_ind</th><th>seller_bnk_ind</th><th>seller_gse_ind</th><th>seller_gov_ind</th><th>flip_horizon</th><th>flip_ind</th><th>buy_side_flip</th><th>sell_side_flip</th><th>price_diff</th><th>price_diff_pch</th><th>month_horizon</th><th>flip_term</th><th>buy_horizon</th><th>investor_type_purchase_count</th><th>investor_type_sale_count</th><th>investor_type_purchase_llc</th><th>investor_type_sale_llc</th><th>investor_type_purchase_building</th><th>investor_type_sale_building</th><th>avg_annual_value</th><th>investor_type_purchase_value</th><th>investor_type_sale_value</th><th>current_owner</th><th>restype_R1F</th><th>tot_owned</th><th>buyer_purchases</th><th>R1F_total</th><th>investor_type_purchase</th><th>investor_type_sale</th><th>inv_to_inv</th><th>flip_horizon_years</th><th>yearly_return</th></tr><tr><td>str</td><td>str</td><td>str</td><td>i64</td><td>f64</td><td>str</td><td>f64</td><td>f64</td><td>i64</td><td>str</td><td>str</td><td>i64</td><td>i64</td><td>i64</td><td>i64</td><td>i64</td><td>i64</td><td>str</td><td>str</td><td>i64</td><td>f64</td><td>f64</td><td>i64</td><td>i64</td><td>i64</td><td>i64</td><td>i64</td><td>i64</td><td>i64</td><td>i64</td><td>i64</td><td>i64</td><td>i64</td><td>i64</td><td>i64</td><td>i64</td><td>i64</td><td>i64</td><td>i64</td><td>i64</td><td>i64</td><td>f64</td><td>f64</td><td>str</td><td>str</td><td>str</td><td>str</td><td>str</td><td>str</td><td>str</td><td>str</td><td>str</td><td>f64</td><td>str</td><td>str</td><td>i64</td><td>i64</td><td>i64</td><td>i64</td><td>i64</td><td>str</td><td>str</td><td>i64</td><td>f64</td><td>f64</td></tr></thead><tbody><tr><td>&quot;48 Commercial Wharf #48&quot;</td><td>&quot;Commercial Wharf&quot;</td><td>&quot;RCD&quot;</td><td>2012</td><td>899000.0</td><td>&quot;07/08/11&quot;</td><td>830000.0</td><td>0.0</td><td>102</td><td>&quot;CONDOMINIUM&quot;</td><td>&quot;MID-RISE&quot;</td><td>1875</td><td>5</td><td>2</td><td>2</td><td>1043</td><td>1043</td><td>&quot;1001:1100&quot;</td><td>&quot;U&quot;</td><td>2110</td><td>42.362099</td><td>-71.050169</td><td>2012</td><td>1</td><td>0</td><td>0</td><td>0</td><td>0</td><td>0</td><td>0</td><td>0</td><td>0</td><td>0</td><td>0</td><td>0</td><td>0</td><td>0</td><td>431</td><td>1</td><td>0</td><td>1</td><td>69000.0</td><td>8.31</td><td>&quot;14&quot;</td><td>&quot;Long-term&quot;</td><td>&quot;2017-09-11&quot;</td><td>&quot;Non-count investor&quot;</td><td>&quot;Non-count investor&quot;</td><td>&quot;Non-Small LLC&quot;</td><td>&quot;Non-Small LLC&quot;</td><td>&quot;Non-building investor&quot;</td><td>&quot;Non-building investor&quot;</td><td>39086.956522</td><td>&quot;Non-value investor&quot;</td><td>&quot;Non-value investor&quot;</td><td>1</td><td>0</td><td>1</td><td>1</td><td>0</td><td>&quot;Non-investor&quot;</td><td>&quot;Non-investor&quot;</td><td>0</td><td>1.180822</td><td>58433.87471</td></tr><tr><td>&quot;6 Arlington St #9&quot;</td><td>&quot;Arlington St&quot;</td><td>&quot;RCD&quot;</td><td>2008</td><td>4.867787e6</td><td>null</td><td>0.0</td><td>2.25e6</td><td>102</td><td>&quot;CONDOMINIUM&quot;</td><td>&quot;MID-RISE&quot;</td><td>1910</td><td>7</td><td>4</td><td>3</td><td>3319</td><td>3319</td><td>&quot;3301:3400&quot;</td><td>&quot;U&quot;</td><td>2116</td><td>42.354791</td><td>-71.072323</td><td>2008</td><td>0</td><td>0</td><td>0</td><td>1</td><td>0</td><td>0</td><td>0</td><td>1</td><td>0</td><td>0</td><td>0</td><td>0</td><td>0</td><td>0</td><td>null</td><td>0</td><td>0</td><td>0</td><td>null</td><td>null</td><td>null</td><td>&quot;Non-flip&quot;</td><td>&quot;2013-10-23&quot;</td><td>&quot;Non-count investor&quot;</td><td>&quot;Non-count investor&quot;</td><td>&quot;Non-Small LLC&quot;</td><td>&quot;Small LLC&quot;</td><td>&quot;Non-building investor&quot;</td><td>&quot;Non-building investor&quot;</td><td>211642.913043</td><td>&quot;Small&quot;</td><td>&quot;Small&quot;</td><td>0</td><td>0</td><td>0</td><td>1</td><td>0</td><td>&quot;Small&quot;</td><td>&quot;Small&quot;</td><td>1</td><td>null</td><td>null</td></tr><tr><td>&quot;1 Charles St S #902&quot;</td><td>&quot;Charles St S&quot;</td><td>&quot;RCD&quot;</td><td>2014</td><td>807500.0</td><td>&quot;11/06/08&quot;</td><td>665000.0</td><td>160000.0</td><td>102</td><td>&quot;CONDOMINIUM&quot;</td><td>&quot;HIGH-RISE&quot;</td><td>2004</td><td>3</td><td>2</td><td>1</td><td>926</td><td>926</td><td>&quot;901:1000&quot;</td><td>&quot;U&quot;</td><td>2116</td><td>42.351787</td><td>-71.067367</td><td>2014</td><td>0</td><td>1</td><td>0</td><td>0</td><td>0</td><td>0</td><td>0</td><td>0</td><td>0</td><td>0</td><td>0</td><td>0</td><td>0</td><td>0</td><td>2204</td><td>0</td><td>0</td><td>0</td><td>142500.0</td><td>21.43</td><td>&quot;24+&quot;</td><td>&quot;Non-flip&quot;</td><td>&quot;2019-11-19&quot;</td><td>&quot;Non-count investor&quot;</td><td>&quot;Non-count investor&quot;</td><td>&quot;Small LLC&quot;</td><td>&quot;Non-Small LLC&quot;</td><td>&quot;Non-building investor&quot;</td><td>&quot;Non-building investor&quot;</td><td>35108.695652</td><td>&quot;Non-value investor&quot;</td><td>&quot;Non-value investor&quot;</td><td>0</td><td>0</td><td>0</td><td>1</td><td>0</td><td>&quot;Small&quot;</td><td>&quot;Non-investor&quot;</td><td>0</td><td>6.038356</td><td>23599.137931</td></tr><tr><td>&quot;1 Avery St #31B&quot;</td><td>&quot;Avery St&quot;</td><td>&quot;RCD&quot;</td><td>2013</td><td>3.475e6</td><td>&quot;08/29/08&quot;</td><td>3.05e6</td><td>0.0</td><td>102</td><td>&quot;CONDOMINIUM&quot;</td><td>&quot;HIGH-RISE&quot;</td><td>2000</td><td>7</td><td>5</td><td>3</td><td>2667</td><td>2667</td><td>&quot;2601:2700&quot;</td><td>&quot;U&quot;</td><td>2111</td><td>42.35337</td><td>-71.062515</td><td>2013</td><td>1</td><td>0</td><td>0</td><td>1</td><td>0</td><td>0</td><td>0</td><td>0</td><td>0</td><td>0</td><td>0</td><td>0</td><td>0</td><td>0</td><td>1826</td><td>0</td><td>0</td><td>0</td><td>425000.0</td><td>13.93</td><td>&quot;24+&quot;</td><td>&quot;Non-flip&quot;</td><td>&quot;2018-08-29&quot;</td><td>&quot;Non-count investor&quot;</td><td>&quot;Non-count investor&quot;</td><td>&quot;Non-Small LLC&quot;</td><td>&quot;Non-Small LLC&quot;</td><td>&quot;Non-building investor&quot;</td><td>&quot;Non-building investor&quot;</td><td>151086.956522</td><td>&quot;Small&quot;</td><td>&quot;Small&quot;</td><td>1</td><td>0</td><td>1</td><td>1</td><td>0</td><td>&quot;Small&quot;</td><td>&quot;Small&quot;</td><td>1</td><td>5.00274</td><td>84953.450164</td></tr><tr><td>&quot;1 Avery St #10D&quot;</td><td>&quot;Avery St&quot;</td><td>&quot;RCD&quot;</td><td>2009</td><td>845000.0</td><td>&quot;03/29/07&quot;</td><td>845000.0</td><td>0.0</td><td>102</td><td>&quot;CONDOMINIUM&quot;</td><td>&quot;HIGH-RISE&quot;</td><td>2000</td><td>4</td><td>2</td><td>2</td><td>1087</td><td>1087</td><td>&quot;1001:1100&quot;</td><td>&quot;U&quot;</td><td>2111</td><td>42.35337</td><td>-71.062515</td><td>2009</td><td>1</td><td>0</td><td>0</td><td>1</td><td>0</td><td>0</td><td>0</td><td>0</td><td>0</td><td>1</td><td>0</td><td>0</td><td>0</td><td>0</td><td>null</td><td>0</td><td>0</td><td>0</td><td>0.0</td><td>0.0</td><td>null</td><td>&quot;Non-flip&quot;</td><td>&quot;2014-04-30&quot;</td><td>&quot;Non-count investor&quot;</td><td>&quot;Non-count investor&quot;</td><td>&quot;Non-Small LLC&quot;</td><td>&quot;Non-Small LLC&quot;</td><td>&quot;Non-building investor&quot;</td><td>&quot;Non-building investor&quot;</td><td>36739.130435</td><td>&quot;Non-value investor&quot;</td><td>&quot;Non-value investor&quot;</td><td>0</td><td>0</td><td>0</td><td>1</td><td>0</td><td>&quot;Non-investor&quot;</td><td>&quot;Non-investor&quot;</td><td>0</td><td>null</td><td>null</td></tr></tbody></table></div>"
      ],
      "text/plain": [
       "shape: (5, 65)\n",
       "┌────────────┬────────────┬──────────┬──────┬───┬────────────┬────────────┬────────────┬───────────┐\n",
       "│ address    ┆ street     ┆ proptype ┆ date ┆ … ┆ investor_t ┆ inv_to_inv ┆ flip_horiz ┆ yearly_re │\n",
       "│ ---        ┆ ---        ┆ ---      ┆ ---  ┆   ┆ ype_sale   ┆ ---        ┆ on_years   ┆ turn      │\n",
       "│ str        ┆ str        ┆ str      ┆ i64  ┆   ┆ ---        ┆ i64        ┆ ---        ┆ ---       │\n",
       "│            ┆            ┆          ┆      ┆   ┆ str        ┆            ┆ f64        ┆ f64       │\n",
       "╞════════════╪════════════╪══════════╪══════╪═══╪════════════╪════════════╪════════════╪═══════════╡\n",
       "│ 48         ┆ Commercial ┆ RCD      ┆ 2012 ┆ … ┆ Non-invest ┆ 0          ┆ 1.180822   ┆ 58433.874 │\n",
       "│ Commercial ┆ Wharf      ┆          ┆      ┆   ┆ or         ┆            ┆            ┆ 71        │\n",
       "│ Wharf #48  ┆            ┆          ┆      ┆   ┆            ┆            ┆            ┆           │\n",
       "│ 6          ┆ Arlington  ┆ RCD      ┆ 2008 ┆ … ┆ Small      ┆ 1          ┆ null       ┆ null      │\n",
       "│ Arlington  ┆ St         ┆          ┆      ┆   ┆            ┆            ┆            ┆           │\n",
       "│ St #9      ┆            ┆          ┆      ┆   ┆            ┆            ┆            ┆           │\n",
       "│ 1 Charles  ┆ Charles St ┆ RCD      ┆ 2014 ┆ … ┆ Non-invest ┆ 0          ┆ 6.038356   ┆ 23599.137 │\n",
       "│ St S #902  ┆ S          ┆          ┆      ┆   ┆ or         ┆            ┆            ┆ 931       │\n",
       "│ 1 Avery St ┆ Avery St   ┆ RCD      ┆ 2013 ┆ … ┆ Small      ┆ 1          ┆ 5.00274    ┆ 84953.450 │\n",
       "│ #31B       ┆            ┆          ┆      ┆   ┆            ┆            ┆            ┆ 164       │\n",
       "│ 1 Avery St ┆ Avery St   ┆ RCD      ┆ 2009 ┆ … ┆ Non-invest ┆ 0          ┆ null       ┆ null      │\n",
       "│ #10D       ┆            ┆          ┆      ┆   ┆ or         ┆            ┆            ┆           │\n",
       "└────────────┴────────────┴──────────┴──────┴───┴────────────┴────────────┴────────────┴───────────┘"
      ]
     },
     "execution_count": 79,
     "metadata": {},
     "output_type": "execute_result"
    }
   ],
   "source": [
    "def new_df():\n",
    "    df = pl.read_csv(dataset)\n",
    "    df = (\n",
    "        df.with_columns(\n",
    "            pl.col(\"date\").str.split(\"-\").list.get(0).cast(int).alias(\"date\")\n",
    "        )\n",
    "    )\n",
    "    df = df.with_columns(\n",
    "    (pl.col(\"flip_horizon\") / 365.0).alias(\"flip_horizon_years\")\n",
    "    )\n",
    "    df = df.with_columns(\n",
    "        (pl.col(\"price_diff\") / pl.col(\"flip_horizon_years\")).alias(\"yearly_return\")\n",
    "    )\n",
    "    return df\n",
    "\n",
    "df = new_df()\n",
    "df.head()\n"
   ]
  },
  {
   "cell_type": "markdown",
   "id": "113769ea",
   "metadata": {},
   "source": [
    "# Sales profit"
   ]
  },
  {
   "cell_type": "code",
   "execution_count": null,
   "id": "6b48d3f7",
   "metadata": {},
   "outputs": [
    {
     "data": {
      "text/html": [
       "<div><style>\n",
       ".dataframe > thead > tr,\n",
       ".dataframe > tbody > tr {\n",
       "  text-align: right;\n",
       "  white-space: pre-wrap;\n",
       "}\n",
       "</style>\n",
       "<small>shape: (5, 65)</small><table border=\"1\" class=\"dataframe\"><thead><tr><th>address</th><th>street</th><th>proptype</th><th>date</th><th>price</th><th>prsldate</th><th>prslpr</th><th>mortgage</th><th>usecode</th><th>usage</th><th>style</th><th>yearbuilt</th><th>totrooms</th><th>bathrooms</th><th>bedrooms</th><th>lotsize</th><th>intersf</th><th>lasqbin</th><th>amenity</th><th>zip</th><th>lat</th><th>lon</th><th>year</th><th>cash_sale</th><th>buyer_llc_ind</th><th>buyer_bus_ind</th><th>buyer_trst_ind</th><th>buyer_bnk_ind</th><th>buyer_gse_ind</th><th>buyer_gov_ind</th><th>seller_llc_ind</th><th>seller_llp_ind</th><th>seller_bus_ind</th><th>seller_trst_ind</th><th>seller_bnk_ind</th><th>seller_gse_ind</th><th>seller_gov_ind</th><th>flip_horizon</th><th>flip_ind</th><th>buy_side_flip</th><th>sell_side_flip</th><th>price_diff</th><th>price_diff_pch</th><th>month_horizon</th><th>flip_term</th><th>buy_horizon</th><th>investor_type_purchase_count</th><th>investor_type_sale_count</th><th>investor_type_purchase_llc</th><th>investor_type_sale_llc</th><th>investor_type_purchase_building</th><th>investor_type_sale_building</th><th>avg_annual_value</th><th>investor_type_purchase_value</th><th>investor_type_sale_value</th><th>current_owner</th><th>restype_R1F</th><th>tot_owned</th><th>buyer_purchases</th><th>R1F_total</th><th>investor_type_purchase</th><th>investor_type_sale</th><th>inv_to_inv</th><th>flip_horizon_years</th><th>yearly_return</th></tr><tr><td>str</td><td>str</td><td>str</td><td>i64</td><td>f64</td><td>str</td><td>f64</td><td>f64</td><td>i64</td><td>str</td><td>str</td><td>i64</td><td>i64</td><td>i64</td><td>i64</td><td>i64</td><td>i64</td><td>str</td><td>str</td><td>i64</td><td>f64</td><td>f64</td><td>i64</td><td>i64</td><td>i64</td><td>i64</td><td>i64</td><td>i64</td><td>i64</td><td>i64</td><td>i64</td><td>i64</td><td>i64</td><td>i64</td><td>i64</td><td>i64</td><td>i64</td><td>i64</td><td>i64</td><td>i64</td><td>i64</td><td>f64</td><td>f64</td><td>str</td><td>str</td><td>str</td><td>str</td><td>str</td><td>str</td><td>str</td><td>str</td><td>str</td><td>f64</td><td>str</td><td>str</td><td>i64</td><td>i64</td><td>i64</td><td>i64</td><td>i64</td><td>str</td><td>str</td><td>i64</td><td>f64</td><td>f64</td></tr></thead><tbody><tr><td>&quot;48 Commercial Wharf #48&quot;</td><td>&quot;Commercial Wharf&quot;</td><td>&quot;RCD&quot;</td><td>2012</td><td>899000.0</td><td>&quot;07/08/11&quot;</td><td>830000.0</td><td>0.0</td><td>102</td><td>&quot;CONDOMINIUM&quot;</td><td>&quot;MID-RISE&quot;</td><td>1875</td><td>5</td><td>2</td><td>2</td><td>1043</td><td>1043</td><td>&quot;1001:1100&quot;</td><td>&quot;U&quot;</td><td>2110</td><td>42.362099</td><td>-71.050169</td><td>2012</td><td>1</td><td>0</td><td>0</td><td>0</td><td>0</td><td>0</td><td>0</td><td>0</td><td>0</td><td>0</td><td>0</td><td>0</td><td>0</td><td>0</td><td>431</td><td>1</td><td>0</td><td>1</td><td>69000.0</td><td>8.31</td><td>&quot;14&quot;</td><td>&quot;Long-term&quot;</td><td>&quot;2017-09-11&quot;</td><td>&quot;Non-count investor&quot;</td><td>&quot;Non-count investor&quot;</td><td>&quot;Non-Small LLC&quot;</td><td>&quot;Non-Small LLC&quot;</td><td>&quot;Non-building investor&quot;</td><td>&quot;Non-building investor&quot;</td><td>39086.956522</td><td>&quot;Non-value investor&quot;</td><td>&quot;Non-value investor&quot;</td><td>1</td><td>0</td><td>1</td><td>1</td><td>0</td><td>&quot;Non-investor&quot;</td><td>&quot;Non-investor&quot;</td><td>0</td><td>1.180822</td><td>58433.87471</td></tr><tr><td>&quot;6 Arlington St #9&quot;</td><td>&quot;Arlington St&quot;</td><td>&quot;RCD&quot;</td><td>2008</td><td>4.867787e6</td><td>null</td><td>0.0</td><td>2.25e6</td><td>102</td><td>&quot;CONDOMINIUM&quot;</td><td>&quot;MID-RISE&quot;</td><td>1910</td><td>7</td><td>4</td><td>3</td><td>3319</td><td>3319</td><td>&quot;3301:3400&quot;</td><td>&quot;U&quot;</td><td>2116</td><td>42.354791</td><td>-71.072323</td><td>2008</td><td>0</td><td>0</td><td>0</td><td>1</td><td>0</td><td>0</td><td>0</td><td>1</td><td>0</td><td>0</td><td>0</td><td>0</td><td>0</td><td>0</td><td>null</td><td>0</td><td>0</td><td>0</td><td>null</td><td>null</td><td>null</td><td>&quot;Non-flip&quot;</td><td>&quot;2013-10-23&quot;</td><td>&quot;Non-count investor&quot;</td><td>&quot;Non-count investor&quot;</td><td>&quot;Non-Small LLC&quot;</td><td>&quot;Small LLC&quot;</td><td>&quot;Non-building investor&quot;</td><td>&quot;Non-building investor&quot;</td><td>211642.913043</td><td>&quot;Small&quot;</td><td>&quot;Small&quot;</td><td>0</td><td>0</td><td>0</td><td>1</td><td>0</td><td>&quot;Small&quot;</td><td>&quot;Small&quot;</td><td>1</td><td>null</td><td>null</td></tr><tr><td>&quot;1 Charles St S #902&quot;</td><td>&quot;Charles St S&quot;</td><td>&quot;RCD&quot;</td><td>2014</td><td>807500.0</td><td>&quot;11/06/08&quot;</td><td>665000.0</td><td>160000.0</td><td>102</td><td>&quot;CONDOMINIUM&quot;</td><td>&quot;HIGH-RISE&quot;</td><td>2004</td><td>3</td><td>2</td><td>1</td><td>926</td><td>926</td><td>&quot;901:1000&quot;</td><td>&quot;U&quot;</td><td>2116</td><td>42.351787</td><td>-71.067367</td><td>2014</td><td>0</td><td>1</td><td>0</td><td>0</td><td>0</td><td>0</td><td>0</td><td>0</td><td>0</td><td>0</td><td>0</td><td>0</td><td>0</td><td>0</td><td>2204</td><td>0</td><td>0</td><td>0</td><td>142500.0</td><td>21.43</td><td>&quot;24+&quot;</td><td>&quot;Non-flip&quot;</td><td>&quot;2019-11-19&quot;</td><td>&quot;Non-count investor&quot;</td><td>&quot;Non-count investor&quot;</td><td>&quot;Small LLC&quot;</td><td>&quot;Non-Small LLC&quot;</td><td>&quot;Non-building investor&quot;</td><td>&quot;Non-building investor&quot;</td><td>35108.695652</td><td>&quot;Non-value investor&quot;</td><td>&quot;Non-value investor&quot;</td><td>0</td><td>0</td><td>0</td><td>1</td><td>0</td><td>&quot;Small&quot;</td><td>&quot;Non-investor&quot;</td><td>0</td><td>6.038356</td><td>23599.137931</td></tr><tr><td>&quot;1 Avery St #31B&quot;</td><td>&quot;Avery St&quot;</td><td>&quot;RCD&quot;</td><td>2013</td><td>3.475e6</td><td>&quot;08/29/08&quot;</td><td>3.05e6</td><td>0.0</td><td>102</td><td>&quot;CONDOMINIUM&quot;</td><td>&quot;HIGH-RISE&quot;</td><td>2000</td><td>7</td><td>5</td><td>3</td><td>2667</td><td>2667</td><td>&quot;2601:2700&quot;</td><td>&quot;U&quot;</td><td>2111</td><td>42.35337</td><td>-71.062515</td><td>2013</td><td>1</td><td>0</td><td>0</td><td>1</td><td>0</td><td>0</td><td>0</td><td>0</td><td>0</td><td>0</td><td>0</td><td>0</td><td>0</td><td>0</td><td>1826</td><td>0</td><td>0</td><td>0</td><td>425000.0</td><td>13.93</td><td>&quot;24+&quot;</td><td>&quot;Non-flip&quot;</td><td>&quot;2018-08-29&quot;</td><td>&quot;Non-count investor&quot;</td><td>&quot;Non-count investor&quot;</td><td>&quot;Non-Small LLC&quot;</td><td>&quot;Non-Small LLC&quot;</td><td>&quot;Non-building investor&quot;</td><td>&quot;Non-building investor&quot;</td><td>151086.956522</td><td>&quot;Small&quot;</td><td>&quot;Small&quot;</td><td>1</td><td>0</td><td>1</td><td>1</td><td>0</td><td>&quot;Small&quot;</td><td>&quot;Small&quot;</td><td>1</td><td>5.00274</td><td>84953.450164</td></tr><tr><td>&quot;1 Avery St #10D&quot;</td><td>&quot;Avery St&quot;</td><td>&quot;RCD&quot;</td><td>2009</td><td>845000.0</td><td>&quot;03/29/07&quot;</td><td>845000.0</td><td>0.0</td><td>102</td><td>&quot;CONDOMINIUM&quot;</td><td>&quot;HIGH-RISE&quot;</td><td>2000</td><td>4</td><td>2</td><td>2</td><td>1087</td><td>1087</td><td>&quot;1001:1100&quot;</td><td>&quot;U&quot;</td><td>2111</td><td>42.35337</td><td>-71.062515</td><td>2009</td><td>1</td><td>0</td><td>0</td><td>1</td><td>0</td><td>0</td><td>0</td><td>0</td><td>0</td><td>1</td><td>0</td><td>0</td><td>0</td><td>0</td><td>null</td><td>0</td><td>0</td><td>0</td><td>0.0</td><td>0.0</td><td>null</td><td>&quot;Non-flip&quot;</td><td>&quot;2014-04-30&quot;</td><td>&quot;Non-count investor&quot;</td><td>&quot;Non-count investor&quot;</td><td>&quot;Non-Small LLC&quot;</td><td>&quot;Non-Small LLC&quot;</td><td>&quot;Non-building investor&quot;</td><td>&quot;Non-building investor&quot;</td><td>36739.130435</td><td>&quot;Non-value investor&quot;</td><td>&quot;Non-value investor&quot;</td><td>0</td><td>0</td><td>0</td><td>1</td><td>0</td><td>&quot;Non-investor&quot;</td><td>&quot;Non-investor&quot;</td><td>0</td><td>null</td><td>null</td></tr></tbody></table></div>"
      ],
      "text/plain": [
       "shape: (5, 65)\n",
       "┌────────────┬────────────┬──────────┬──────┬───┬────────────┬────────────┬────────────┬───────────┐\n",
       "│ address    ┆ street     ┆ proptype ┆ date ┆ … ┆ investor_t ┆ inv_to_inv ┆ flip_horiz ┆ yearly_re │\n",
       "│ ---        ┆ ---        ┆ ---      ┆ ---  ┆   ┆ ype_sale   ┆ ---        ┆ on_years   ┆ turn      │\n",
       "│ str        ┆ str        ┆ str      ┆ i64  ┆   ┆ ---        ┆ i64        ┆ ---        ┆ ---       │\n",
       "│            ┆            ┆          ┆      ┆   ┆ str        ┆            ┆ f64        ┆ f64       │\n",
       "╞════════════╪════════════╪══════════╪══════╪═══╪════════════╪════════════╪════════════╪═══════════╡\n",
       "│ 48         ┆ Commercial ┆ RCD      ┆ 2012 ┆ … ┆ Non-invest ┆ 0          ┆ 1.180822   ┆ 58433.874 │\n",
       "│ Commercial ┆ Wharf      ┆          ┆      ┆   ┆ or         ┆            ┆            ┆ 71        │\n",
       "│ Wharf #48  ┆            ┆          ┆      ┆   ┆            ┆            ┆            ┆           │\n",
       "│ 6          ┆ Arlington  ┆ RCD      ┆ 2008 ┆ … ┆ Small      ┆ 1          ┆ null       ┆ null      │\n",
       "│ Arlington  ┆ St         ┆          ┆      ┆   ┆            ┆            ┆            ┆           │\n",
       "│ St #9      ┆            ┆          ┆      ┆   ┆            ┆            ┆            ┆           │\n",
       "│ 1 Charles  ┆ Charles St ┆ RCD      ┆ 2014 ┆ … ┆ Non-invest ┆ 0          ┆ 6.038356   ┆ 23599.137 │\n",
       "│ St S #902  ┆ S          ┆          ┆      ┆   ┆ or         ┆            ┆            ┆ 931       │\n",
       "│ 1 Avery St ┆ Avery St   ┆ RCD      ┆ 2013 ┆ … ┆ Small      ┆ 1          ┆ 5.00274    ┆ 84953.450 │\n",
       "│ #31B       ┆            ┆          ┆      ┆   ┆            ┆            ┆            ┆ 164       │\n",
       "│ 1 Avery St ┆ Avery St   ┆ RCD      ┆ 2009 ┆ … ┆ Non-invest ┆ 0          ┆ null       ┆ null      │\n",
       "│ #10D       ┆            ┆          ┆      ┆   ┆ or         ┆            ┆            ┆           │\n",
       "└────────────┴────────────┴──────────┴──────┴───┴────────────┴────────────┴────────────┴───────────┘"
      ]
     },
     "execution_count": 80,
     "metadata": {},
     "output_type": "execute_result"
    }
   ],
   "source": [
    "# look at a spcific column year\n",
    "year = \"2022\"\n",
    "df = df.filter(pl.col(\"date\") == year )\n",
    "df.head()\n"
   ]
  },
  {
   "cell_type": "code",
   "execution_count": 81,
   "id": "a28032a3",
   "metadata": {},
   "outputs": [],
   "source": [
    "import polars as pl\n",
    "\n",
    "# Filter for regular non-flipper sellers (flip_ind = 0 and sell_side_flip = 0)\n",
    "non_flippers_df = (\n",
    "    df.filter((pl.col(\"flip_ind\") == 0) & (pl.col(\"sell_side_flip\") == 0))\n",
    "    .group_by([\"sell_side_flip\", \"year\"])\n",
    "    .agg(\n",
    "        pl.len().alias(\"num_transactions\"),\n",
    "        pl.col(\"yearly_return\").median().alias(\"median_yearly_return\"),\n",
    "        pl.col(\"yearly_return\").mean().alias(\"avg_yearly_return\"),\n",
    "        pl.col(\"price_diff\").median().alias(\"median_transaction_price_diff\"),\n",
    "        pl.col(\"price_diff\").mean().alias(\"average_transaction_price_diff\")\n",
    "    )\n",
    ")\n",
    "non_flippers_df = non_flippers_df.with_columns(\n",
    "    pl.lit(\"non-flip sellers\").alias(\"flipper_type\")\n",
    ")\n",
    "\n",
    "# Filter for sell-side flippers (sell_side_flip = 1)\n",
    "flippers_df = (\n",
    "    df.filter(pl.col(\"sell_side_flip\") == 1)\n",
    "    .group_by([\"sell_side_flip\", \"year\"])\n",
    "    .agg(\n",
    "        pl.len().alias(\"num_transactions\"),\n",
    "        pl.col(\"yearly_return\").median().alias(\"median_yearly_return\"),\n",
    "        pl.col(\"yearly_return\").mean().alias(\"avg_yearly_return\"),\n",
    "        pl.col(\"price_diff\").median().alias(\"median_transaction_price_diff\"),\n",
    "        pl.col(\"price_diff\").mean().alias(\"average_transaction_price_diff\")\n",
    "    )\n",
    ")\n",
    "flippers_df = flippers_df.with_columns(\n",
    "    pl.lit(\"flip sellers\").alias(\"flipper_type\")\n",
    ")\n",
    "\n"
   ]
  },
  {
   "cell_type": "code",
   "execution_count": 82,
   "id": "1487d148",
   "metadata": {},
   "outputs": [
    {
     "data": {
      "text/html": [
       "<div><style>\n",
       ".dataframe > thead > tr,\n",
       ".dataframe > tbody > tr {\n",
       "  text-align: right;\n",
       "  white-space: pre-wrap;\n",
       "}\n",
       "</style>\n",
       "<small>shape: (1_718, 65)</small><table border=\"1\" class=\"dataframe\"><thead><tr><th>address</th><th>street</th><th>proptype</th><th>date</th><th>price</th><th>prsldate</th><th>prslpr</th><th>mortgage</th><th>usecode</th><th>usage</th><th>style</th><th>yearbuilt</th><th>totrooms</th><th>bathrooms</th><th>bedrooms</th><th>lotsize</th><th>intersf</th><th>lasqbin</th><th>amenity</th><th>zip</th><th>lat</th><th>lon</th><th>year</th><th>cash_sale</th><th>buyer_llc_ind</th><th>buyer_bus_ind</th><th>buyer_trst_ind</th><th>buyer_bnk_ind</th><th>buyer_gse_ind</th><th>buyer_gov_ind</th><th>seller_llc_ind</th><th>seller_llp_ind</th><th>seller_bus_ind</th><th>seller_trst_ind</th><th>seller_bnk_ind</th><th>seller_gse_ind</th><th>seller_gov_ind</th><th>flip_horizon</th><th>flip_ind</th><th>buy_side_flip</th><th>sell_side_flip</th><th>price_diff</th><th>price_diff_pch</th><th>month_horizon</th><th>flip_term</th><th>buy_horizon</th><th>investor_type_purchase_count</th><th>investor_type_sale_count</th><th>investor_type_purchase_llc</th><th>investor_type_sale_llc</th><th>investor_type_purchase_building</th><th>investor_type_sale_building</th><th>avg_annual_value</th><th>investor_type_purchase_value</th><th>investor_type_sale_value</th><th>current_owner</th><th>restype_R1F</th><th>tot_owned</th><th>buyer_purchases</th><th>R1F_total</th><th>investor_type_purchase</th><th>investor_type_sale</th><th>inv_to_inv</th><th>flip_horizon_years</th><th>yearly_return</th></tr><tr><td>str</td><td>str</td><td>str</td><td>i64</td><td>f64</td><td>str</td><td>f64</td><td>f64</td><td>i64</td><td>str</td><td>str</td><td>i64</td><td>i64</td><td>i64</td><td>i64</td><td>i64</td><td>i64</td><td>str</td><td>str</td><td>i64</td><td>f64</td><td>f64</td><td>i64</td><td>i64</td><td>i64</td><td>i64</td><td>i64</td><td>i64</td><td>i64</td><td>i64</td><td>i64</td><td>i64</td><td>i64</td><td>i64</td><td>i64</td><td>i64</td><td>i64</td><td>i64</td><td>i64</td><td>i64</td><td>i64</td><td>f64</td><td>f64</td><td>str</td><td>str</td><td>str</td><td>str</td><td>str</td><td>str</td><td>str</td><td>str</td><td>str</td><td>f64</td><td>str</td><td>str</td><td>i64</td><td>i64</td><td>i64</td><td>i64</td><td>i64</td><td>str</td><td>str</td><td>i64</td><td>f64</td><td>f64</td></tr></thead><tbody><tr><td>&quot;48 Commercial Wharf #48&quot;</td><td>&quot;Commercial Wharf&quot;</td><td>&quot;RCD&quot;</td><td>2012</td><td>899000.0</td><td>&quot;07/08/11&quot;</td><td>830000.0</td><td>0.0</td><td>102</td><td>&quot;CONDOMINIUM&quot;</td><td>&quot;MID-RISE&quot;</td><td>1875</td><td>5</td><td>2</td><td>2</td><td>1043</td><td>1043</td><td>&quot;1001:1100&quot;</td><td>&quot;U&quot;</td><td>2110</td><td>42.362099</td><td>-71.050169</td><td>2012</td><td>1</td><td>0</td><td>0</td><td>0</td><td>0</td><td>0</td><td>0</td><td>0</td><td>0</td><td>0</td><td>0</td><td>0</td><td>0</td><td>0</td><td>431</td><td>1</td><td>0</td><td>1</td><td>69000.0</td><td>8.31</td><td>&quot;14&quot;</td><td>&quot;Long-term&quot;</td><td>&quot;2017-09-11&quot;</td><td>&quot;Non-count investor&quot;</td><td>&quot;Non-count investor&quot;</td><td>&quot;Non-Small LLC&quot;</td><td>&quot;Non-Small LLC&quot;</td><td>&quot;Non-building investor&quot;</td><td>&quot;Non-building investor&quot;</td><td>39086.956522</td><td>&quot;Non-value investor&quot;</td><td>&quot;Non-value investor&quot;</td><td>1</td><td>0</td><td>1</td><td>1</td><td>0</td><td>&quot;Non-investor&quot;</td><td>&quot;Non-investor&quot;</td><td>0</td><td>1.180822</td><td>58433.87471</td></tr><tr><td>&quot;10 Claremont Park&quot;</td><td>&quot;Claremont Park&quot;</td><td>&quot;APT&quot;</td><td>2020</td><td>3.6e6</td><td>&quot;04/16/19&quot;</td><td>4.05e6</td><td>4.15e6</td><td>111</td><td>&quot;4-8 UNIT APT&quot;</td><td>&quot;ROW-MIDDLE&quot;</td><td>1899</td><td>14</td><td>5</td><td>5</td><td>1980</td><td>4388</td><td>&quot;4301:4400&quot;</td><td>&quot;U&quot;</td><td>2118</td><td>42.342097</td><td>-71.082644</td><td>2020</td><td>0</td><td>1</td><td>0</td><td>0</td><td>0</td><td>0</td><td>0</td><td>0</td><td>0</td><td>0</td><td>0</td><td>0</td><td>0</td><td>0</td><td>335</td><td>1</td><td>0</td><td>1</td><td>-450000.0</td><td>-11.11</td><td>&quot;11&quot;</td><td>&quot;Medium-term&quot;</td><td>&quot;2025-03-16&quot;</td><td>&quot;Non-count investor&quot;</td><td>&quot;Non-count investor&quot;</td><td>&quot;Small LLC&quot;</td><td>&quot;Non-Small LLC&quot;</td><td>&quot;Building Investor&quot;</td><td>&quot;Building Investor&quot;</td><td>156521.73913</td><td>&quot;Small&quot;</td><td>&quot;Small&quot;</td><td>1</td><td>0</td><td>1</td><td>1</td><td>0</td><td>&quot;Small&quot;</td><td>&quot;Small&quot;</td><td>1</td><td>0.917808</td><td>-490298.507463</td></tr><tr><td>&quot;99-105 Broad St #4D&quot;</td><td>&quot;Broad St&quot;</td><td>&quot;RCD&quot;</td><td>2017</td><td>590000.0</td><td>&quot;04/08/15&quot;</td><td>509000.0</td><td>425000.0</td><td>102</td><td>&quot;CONDOMINIUM&quot;</td><td>&quot;MID-RISE&quot;</td><td>1910</td><td>3</td><td>1</td><td>0</td><td>637</td><td>637</td><td>&quot;601:700&quot;</td><td>&quot;U&quot;</td><td>2110</td><td>42.357369</td><td>-71.052621</td><td>2017</td><td>0</td><td>1</td><td>0</td><td>0</td><td>0</td><td>0</td><td>0</td><td>0</td><td>0</td><td>0</td><td>0</td><td>0</td><td>0</td><td>0</td><td>713</td><td>1</td><td>0</td><td>1</td><td>81000.0</td><td>15.91</td><td>&quot;23&quot;</td><td>&quot;Long-term&quot;</td><td>&quot;2022-03-21&quot;</td><td>&quot;Non-count investor&quot;</td><td>&quot;Non-count investor&quot;</td><td>&quot;Small LLC&quot;</td><td>&quot;Non-Small LLC&quot;</td><td>&quot;Non-building investor&quot;</td><td>&quot;Non-building investor&quot;</td><td>25652.173913</td><td>&quot;Non-value investor&quot;</td><td>&quot;Non-value investor&quot;</td><td>1</td><td>0</td><td>1</td><td>1</td><td>0</td><td>&quot;Small&quot;</td><td>&quot;Non-investor&quot;</td><td>0</td><td>1.953425</td><td>41465.638149</td></tr><tr><td>&quot;101-103 Summer St&quot;</td><td>&quot;Summer St&quot;</td><td>&quot;COM&quot;</td><td>2011</td><td>1.15e7</td><td>&quot;05/17/10&quot;</td><td>5.7e6</td><td>7.5e6</td><td>340</td><td>&quot;GEN OFFICE&quot;</td><td>null</td><td>1899</td><td>0</td><td>0</td><td>0</td><td>3711</td><td>48905</td><td>&quot;48901:49000&quot;</td><td>null</td><td>2110</td><td>42.35349</td><td>-71.057826</td><td>2011</td><td>0</td><td>1</td><td>0</td><td>0</td><td>0</td><td>0</td><td>0</td><td>0</td><td>0</td><td>0</td><td>0</td><td>0</td><td>0</td><td>0</td><td>368</td><td>1</td><td>0</td><td>1</td><td>5.8e6</td><td>101.75</td><td>&quot;12&quot;</td><td>&quot;Long-term&quot;</td><td>&quot;2016-05-20&quot;</td><td>&quot;Non-count investor&quot;</td><td>&quot;Non-count investor&quot;</td><td>&quot;Small LLC&quot;</td><td>&quot;Non-Small LLC&quot;</td><td>&quot;Non-building investor&quot;</td><td>&quot;Non-building investor&quot;</td><td>500000.0</td><td>&quot;Large&quot;</td><td>&quot;Large&quot;</td><td>0</td><td>null</td><td>0</td><td>1</td><td>null</td><td>&quot;Large&quot;</td><td>&quot;Large&quot;</td><td>1</td><td>1.008219</td><td>5.7527e6</td></tr><tr><td>&quot;105 Beacon St #4&quot;</td><td>&quot;Beacon St&quot;</td><td>&quot;RCD&quot;</td><td>2019</td><td>610000.0</td><td>&quot;07/19/17&quot;</td><td>585000.0</td><td>0.0</td><td>102</td><td>&quot;CONDOMINIUM&quot;</td><td>&quot;ROW-MIDDLE&quot;</td><td>1900</td><td>2</td><td>1</td><td>0</td><td>548</td><td>548</td><td>&quot;501:600&quot;</td><td>null</td><td>2116</td><td>42.355225</td><td>-71.072979</td><td>2019</td><td>1</td><td>1</td><td>0</td><td>0</td><td>0</td><td>0</td><td>0</td><td>0</td><td>0</td><td>0</td><td>1</td><td>0</td><td>0</td><td>0</td><td>646</td><td>1</td><td>0</td><td>1</td><td>25000.0</td><td>4.27</td><td>&quot;21&quot;</td><td>&quot;Long-term&quot;</td><td>&quot;2024-04-26&quot;</td><td>&quot;Non-count investor&quot;</td><td>&quot;Non-count investor&quot;</td><td>&quot;Small LLC&quot;</td><td>&quot;Non-Small LLC&quot;</td><td>&quot;Non-building investor&quot;</td><td>&quot;Non-building investor&quot;</td><td>26521.73913</td><td>&quot;Non-value investor&quot;</td><td>&quot;Non-value investor&quot;</td><td>1</td><td>0</td><td>1</td><td>1</td><td>0</td><td>&quot;Small&quot;</td><td>&quot;Non-investor&quot;</td><td>0</td><td>1.769863</td><td>14125.386997</td></tr><tr><td>&hellip;</td><td>&hellip;</td><td>&hellip;</td><td>&hellip;</td><td>&hellip;</td><td>&hellip;</td><td>&hellip;</td><td>&hellip;</td><td>&hellip;</td><td>&hellip;</td><td>&hellip;</td><td>&hellip;</td><td>&hellip;</td><td>&hellip;</td><td>&hellip;</td><td>&hellip;</td><td>&hellip;</td><td>&hellip;</td><td>&hellip;</td><td>&hellip;</td><td>&hellip;</td><td>&hellip;</td><td>&hellip;</td><td>&hellip;</td><td>&hellip;</td><td>&hellip;</td><td>&hellip;</td><td>&hellip;</td><td>&hellip;</td><td>&hellip;</td><td>&hellip;</td><td>&hellip;</td><td>&hellip;</td><td>&hellip;</td><td>&hellip;</td><td>&hellip;</td><td>&hellip;</td><td>&hellip;</td><td>&hellip;</td><td>&hellip;</td><td>&hellip;</td><td>&hellip;</td><td>&hellip;</td><td>&hellip;</td><td>&hellip;</td><td>&hellip;</td><td>&hellip;</td><td>&hellip;</td><td>&hellip;</td><td>&hellip;</td><td>&hellip;</td><td>&hellip;</td><td>&hellip;</td><td>&hellip;</td><td>&hellip;</td><td>&hellip;</td><td>&hellip;</td><td>&hellip;</td><td>&hellip;</td><td>&hellip;</td><td>&hellip;</td><td>&hellip;</td><td>&hellip;</td><td>&hellip;</td><td>&hellip;</td></tr><tr><td>&quot;17 Bowdoin St #4C&quot;</td><td>&quot;Bowdoin St&quot;</td><td>&quot;RCD&quot;</td><td>2017</td><td>650000.0</td><td>&quot;06/22/15&quot;</td><td>475000.0</td><td>585000.0</td><td>102</td><td>&quot;CONDOMINIUM&quot;</td><td>&quot;MID-RISE&quot;</td><td>1890</td><td>3</td><td>1</td><td>1</td><td>610</td><td>610</td><td>&quot;601:700&quot;</td><td>&quot;U&quot;</td><td>2114</td><td>42.360727</td><td>-71.063012</td><td>2017</td><td>0</td><td>0</td><td>0</td><td>0</td><td>0</td><td>0</td><td>0</td><td>0</td><td>0</td><td>0</td><td>0</td><td>0</td><td>0</td><td>0</td><td>680</td><td>1</td><td>0</td><td>1</td><td>175000.0</td><td>36.84</td><td>&quot;22&quot;</td><td>&quot;Long-term&quot;</td><td>&quot;2022-05-02&quot;</td><td>&quot;Non-count investor&quot;</td><td>&quot;Non-count investor&quot;</td><td>&quot;Non-Small LLC&quot;</td><td>&quot;Non-Small LLC&quot;</td><td>&quot;Non-building investor&quot;</td><td>&quot;Non-building investor&quot;</td><td>28260.869565</td><td>&quot;Non-value investor&quot;</td><td>&quot;Non-value investor&quot;</td><td>1</td><td>0</td><td>1</td><td>1</td><td>0</td><td>&quot;Non-investor&quot;</td><td>&quot;Non-investor&quot;</td><td>0</td><td>1.863014</td><td>93933.823529</td></tr><tr><td>&quot;110 Stuart St #21E&quot;</td><td>&quot;Stuart St&quot;</td><td>&quot;RCD&quot;</td><td>2017</td><td>2.095e6</td><td>&quot;07/01/15&quot;</td><td>2.1e6</td><td>1.4665e6</td><td>102</td><td>&quot;CONDOMINIUM&quot;</td><td>&quot;HIGH-RISE&quot;</td><td>2009</td><td>5</td><td>3</td><td>2</td><td>1714</td><td>1714</td><td>&quot;1701:1800&quot;</td><td>&quot;U&quot;</td><td>2116</td><td>42.351007</td><td>-71.065413</td><td>2017</td><td>0</td><td>0</td><td>0</td><td>0</td><td>0</td><td>0</td><td>0</td><td>0</td><td>0</td><td>0</td><td>0</td><td>0</td><td>0</td><td>0</td><td>590</td><td>1</td><td>0</td><td>1</td><td>-5000.0</td><td>-0.24</td><td>&quot;19&quot;</td><td>&quot;Long-term&quot;</td><td>&quot;2022-02-10&quot;</td><td>&quot;Non-count investor&quot;</td><td>&quot;Small&quot;</td><td>&quot;Non-Small LLC&quot;</td><td>&quot;Non-Small LLC&quot;</td><td>&quot;Non-building investor&quot;</td><td>&quot;Non-building investor&quot;</td><td>91086.956522</td><td>&quot;Non-value investor&quot;</td><td>&quot;Non-value investor&quot;</td><td>1</td><td>0</td><td>1</td><td>1</td><td>0</td><td>&quot;Non-investor&quot;</td><td>&quot;Small&quot;</td><td>0</td><td>1.616438</td><td>-3093.220339</td></tr><tr><td>&quot;12 Stoneholm St #619&quot;</td><td>&quot;Stoneholm St&quot;</td><td>&quot;RCD&quot;</td><td>2014</td><td>465000.0</td><td>&quot;06/29/12&quot;</td><td>385000.0</td><td>348750.0</td><td>102</td><td>&quot;CONDOMINIUM&quot;</td><td>&quot;MID-RISE&quot;</td><td>2006</td><td>4</td><td>2</td><td>2</td><td>635</td><td>635</td><td>&quot;601:700&quot;</td><td>null</td><td>2115</td><td>42.345898</td><td>-71.088231</td><td>2014</td><td>0</td><td>0</td><td>0</td><td>0</td><td>0</td><td>0</td><td>0</td><td>0</td><td>0</td><td>0</td><td>0</td><td>0</td><td>0</td><td>0</td><td>685</td><td>1</td><td>0</td><td>1</td><td>80000.0</td><td>20.78</td><td>&quot;22&quot;</td><td>&quot;Long-term&quot;</td><td>&quot;2019-05-15&quot;</td><td>&quot;Large&quot;</td><td>&quot;Non-count investor&quot;</td><td>&quot;Non-Small LLC&quot;</td><td>&quot;Non-Small LLC&quot;</td><td>&quot;Building Investor&quot;</td><td>&quot;Non-building investor&quot;</td><td>245869.565217</td><td>&quot;Medium&quot;</td><td>&quot;Medium&quot;</td><td>1</td><td>0</td><td>6</td><td>7</td><td>0</td><td>&quot;Large&quot;</td><td>&quot;Medium&quot;</td><td>1</td><td>1.876712</td><td>42627.737226</td></tr><tr><td>&quot;8 Garrison St #507&quot;</td><td>&quot;Garrison St&quot;</td><td>&quot;RCD&quot;</td><td>2016</td><td>400000.0</td><td>&quot;11/30/16&quot;</td><td>400000.0</td><td>0.0</td><td>102</td><td>&quot;CONDOMINIUM&quot;</td><td>&quot;MID-RISE&quot;</td><td>1910</td><td>3</td><td>1</td><td>1</td><td>675</td><td>675</td><td>&quot;601:700&quot;</td><td>null</td><td>2116</td><td>42.346203</td><td>-71.079876</td><td>2016</td><td>1</td><td>0</td><td>0</td><td>0</td><td>0</td><td>0</td><td>0</td><td>0</td><td>0</td><td>0</td><td>0</td><td>0</td><td>0</td><td>0</td><td>23</td><td>1</td><td>0</td><td>1</td><td>0.0</td><td>0.0</td><td>&quot;0&quot;</td><td>&quot;Short-term&quot;</td><td>&quot;2021-12-23&quot;</td><td>&quot;Non-count investor&quot;</td><td>&quot;Non-count investor&quot;</td><td>&quot;Non-Small LLC&quot;</td><td>&quot;Non-Small LLC&quot;</td><td>&quot;Non-building investor&quot;</td><td>&quot;Non-building investor&quot;</td><td>34347.826087</td><td>&quot;Non-value investor&quot;</td><td>&quot;Non-value investor&quot;</td><td>0</td><td>0</td><td>0</td><td>2</td><td>0</td><td>&quot;Non-investor&quot;</td><td>&quot;Non-investor&quot;</td><td>0</td><td>0.063014</td><td>0.0</td></tr><tr><td>&quot;75 Warren Ave #1&quot;</td><td>&quot;Warren Ave&quot;</td><td>&quot;RCD&quot;</td><td>2019</td><td>654000.0</td><td>&quot;08/18/17&quot;</td><td>569000.0</td><td>387000.0</td><td>102</td><td>&quot;CONDOMINIUM&quot;</td><td>&quot;ROW-MIDDLE&quot;</td><td>1860</td><td>4</td><td>1</td><td>1</td><td>570</td><td>570</td><td>&quot;501:600&quot;</td><td>null</td><td>2116</td><td>42.344603</td><td>-71.073362</td><td>2019</td><td>0</td><td>0</td><td>0</td><td>0</td><td>0</td><td>0</td><td>0</td><td>0</td><td>0</td><td>0</td><td>0</td><td>0</td><td>0</td><td>0</td><td>679</td><td>1</td><td>0</td><td>1</td><td>85000.0</td><td>14.94</td><td>&quot;22&quot;</td><td>&quot;Long-term&quot;</td><td>&quot;2024-06-28&quot;</td><td>&quot;Non-count investor&quot;</td><td>&quot;Non-count investor&quot;</td><td>&quot;Non-Small LLC&quot;</td><td>&quot;Non-Small LLC&quot;</td><td>&quot;Non-building investor&quot;</td><td>&quot;Non-building investor&quot;</td><td>93652.173913</td><td>&quot;Non-value investor&quot;</td><td>&quot;Non-value investor&quot;</td><td>0</td><td>0</td><td>1</td><td>2</td><td>0</td><td>&quot;Non-investor&quot;</td><td>&quot;Non-investor&quot;</td><td>0</td><td>1.860274</td><td>45692.194404</td></tr></tbody></table></div>"
      ],
      "text/plain": [
       "shape: (1_718, 65)\n",
       "┌────────────┬────────────┬──────────┬──────┬───┬────────────┬────────────┬────────────┬───────────┐\n",
       "│ address    ┆ street     ┆ proptype ┆ date ┆ … ┆ investor_t ┆ inv_to_inv ┆ flip_horiz ┆ yearly_re │\n",
       "│ ---        ┆ ---        ┆ ---      ┆ ---  ┆   ┆ ype_sale   ┆ ---        ┆ on_years   ┆ turn      │\n",
       "│ str        ┆ str        ┆ str      ┆ i64  ┆   ┆ ---        ┆ i64        ┆ ---        ┆ ---       │\n",
       "│            ┆            ┆          ┆      ┆   ┆ str        ┆            ┆ f64        ┆ f64       │\n",
       "╞════════════╪════════════╪══════════╪══════╪═══╪════════════╪════════════╪════════════╪═══════════╡\n",
       "│ 48         ┆ Commercial ┆ RCD      ┆ 2012 ┆ … ┆ Non-invest ┆ 0          ┆ 1.180822   ┆ 58433.874 │\n",
       "│ Commercial ┆ Wharf      ┆          ┆      ┆   ┆ or         ┆            ┆            ┆ 71        │\n",
       "│ Wharf #48  ┆            ┆          ┆      ┆   ┆            ┆            ┆            ┆           │\n",
       "│ 10         ┆ Claremont  ┆ APT      ┆ 2020 ┆ … ┆ Small      ┆ 1          ┆ 0.917808   ┆ -490298.5 │\n",
       "│ Claremont  ┆ Park       ┆          ┆      ┆   ┆            ┆            ┆            ┆ 07463     │\n",
       "│ Park       ┆            ┆          ┆      ┆   ┆            ┆            ┆            ┆           │\n",
       "│ 99-105     ┆ Broad St   ┆ RCD      ┆ 2017 ┆ … ┆ Non-invest ┆ 0          ┆ 1.953425   ┆ 41465.638 │\n",
       "│ Broad St   ┆            ┆          ┆      ┆   ┆ or         ┆            ┆            ┆ 149       │\n",
       "│ #4D        ┆            ┆          ┆      ┆   ┆            ┆            ┆            ┆           │\n",
       "│ 101-103    ┆ Summer St  ┆ COM      ┆ 2011 ┆ … ┆ Large      ┆ 1          ┆ 1.008219   ┆ 5.7527e6  │\n",
       "│ Summer St  ┆            ┆          ┆      ┆   ┆            ┆            ┆            ┆           │\n",
       "│ 105 Beacon ┆ Beacon St  ┆ RCD      ┆ 2019 ┆ … ┆ Non-invest ┆ 0          ┆ 1.769863   ┆ 14125.386 │\n",
       "│ St #4      ┆            ┆          ┆      ┆   ┆ or         ┆            ┆            ┆ 997       │\n",
       "│ …          ┆ …          ┆ …        ┆ …    ┆ … ┆ …          ┆ …          ┆ …          ┆ …         │\n",
       "│ 17 Bowdoin ┆ Bowdoin St ┆ RCD      ┆ 2017 ┆ … ┆ Non-invest ┆ 0          ┆ 1.863014   ┆ 93933.823 │\n",
       "│ St #4C     ┆            ┆          ┆      ┆   ┆ or         ┆            ┆            ┆ 529       │\n",
       "│ 110 Stuart ┆ Stuart St  ┆ RCD      ┆ 2017 ┆ … ┆ Small      ┆ 0          ┆ 1.616438   ┆ -3093.220 │\n",
       "│ St #21E    ┆            ┆          ┆      ┆   ┆            ┆            ┆            ┆ 339       │\n",
       "│ 12         ┆ Stoneholm  ┆ RCD      ┆ 2014 ┆ … ┆ Medium     ┆ 1          ┆ 1.876712   ┆ 42627.737 │\n",
       "│ Stoneholm  ┆ St         ┆          ┆      ┆   ┆            ┆            ┆            ┆ 226       │\n",
       "│ St #619    ┆            ┆          ┆      ┆   ┆            ┆            ┆            ┆           │\n",
       "│ 8 Garrison ┆ Garrison   ┆ RCD      ┆ 2016 ┆ … ┆ Non-invest ┆ 0          ┆ 0.063014   ┆ 0.0       │\n",
       "│ St #507    ┆ St         ┆          ┆      ┆   ┆ or         ┆            ┆            ┆           │\n",
       "│ 75 Warren  ┆ Warren Ave ┆ RCD      ┆ 2019 ┆ … ┆ Non-invest ┆ 0          ┆ 1.860274   ┆ 45692.194 │\n",
       "│ Ave #1     ┆            ┆          ┆      ┆   ┆ or         ┆            ┆            ┆ 404       │\n",
       "└────────────┴────────────┴──────────┴──────┴───┴────────────┴────────────┴────────────┴───────────┘"
      ]
     },
     "execution_count": 82,
     "metadata": {},
     "output_type": "execute_result"
    }
   ],
   "source": [
    "df.filter(pl.col(\"sell_side_flip\") == 1)"
   ]
  },
  {
   "cell_type": "code",
   "execution_count": 83,
   "id": "e599aec3",
   "metadata": {},
   "outputs": [],
   "source": [
    "\n",
    "final_df = pl.concat([non_flippers_df, flippers_df])\n",
    "final_df = final_df.sort(\"year\", descending=True)"
   ]
  },
  {
   "cell_type": "code",
   "execution_count": 84,
   "id": "4d2f1860",
   "metadata": {},
   "outputs": [
    {
     "data": {
      "text/html": [
       "<div><style>\n",
       ".dataframe > thead > tr,\n",
       ".dataframe > tbody > tr {\n",
       "  text-align: right;\n",
       "  white-space: pre-wrap;\n",
       "}\n",
       "</style>\n",
       "<small>shape: (46, 8)</small><table border=\"1\" class=\"dataframe\"><thead><tr><th>sell_side_flip</th><th>year</th><th>num_transactions</th><th>median_yearly_return</th><th>avg_yearly_return</th><th>median_transaction_price_diff</th><th>average_transaction_price_diff</th><th>flipper_type</th></tr><tr><td>i64</td><td>i64</td><td>u32</td><td>f64</td><td>f64</td><td>f64</td><td>f64</td><td>str</td></tr></thead><tbody><tr><td>0</td><td>2022</td><td>1935</td><td>28197.944297</td><td>42492.50059</td><td>240000.0</td><td>329016.331064</td><td>&quot;non-flip sellers&quot;</td></tr><tr><td>1</td><td>2022</td><td>112</td><td>64390.774973</td><td>132178.069187</td><td>77500.0</td><td>179191.982143</td><td>&quot;flip sellers&quot;</td></tr><tr><td>0</td><td>2021</td><td>2149</td><td>25177.39013</td><td>171156.384281</td><td>225050.0</td><td>1.3982e6</td><td>&quot;non-flip sellers&quot;</td></tr><tr><td>1</td><td>2021</td><td>107</td><td>43909.774436</td><td>197484.459695</td><td>70000.0</td><td>380510.280374</td><td>&quot;flip sellers&quot;</td></tr><tr><td>0</td><td>2020</td><td>1417</td><td>32360.786125</td><td>135539.042059</td><td>250000.0</td><td>1.3113e6</td><td>&quot;non-flip sellers&quot;</td></tr><tr><td>&hellip;</td><td>&hellip;</td><td>&hellip;</td><td>&hellip;</td><td>&hellip;</td><td>&hellip;</td><td>&hellip;</td><td>&hellip;</td></tr><tr><td>1</td><td>2002</td><td>15</td><td>29452.449568</td><td>182224.957353</td><td>29000.0</td><td>-9916.333333</td><td>&quot;flip sellers&quot;</td></tr><tr><td>0</td><td>2001</td><td>1936</td><td>null</td><td>null</td><td>61000.0</td><td>316010.878641</td><td>&quot;non-flip sellers&quot;</td></tr><tr><td>1</td><td>2001</td><td>7</td><td>35636.094675</td><td>1.0717e6</td><td>33000.0</td><td>255372.0</td><td>&quot;flip sellers&quot;</td></tr><tr><td>0</td><td>2000</td><td>2520</td><td>null</td><td>null</td><td>40750.0</td><td>172681.085106</td><td>&quot;non-flip sellers&quot;</td></tr><tr><td>1</td><td>2000</td><td>4</td><td>1.2155e6</td><td>1.0409e6</td><td>50750.0</td><td>-7.38195e6</td><td>&quot;flip sellers&quot;</td></tr></tbody></table></div>"
      ],
      "text/plain": [
       "shape: (46, 8)\n",
       "┌─────────────┬──────┬────────────┬────────────┬────────────┬────────────┬────────────┬────────────┐\n",
       "│ sell_side_f ┆ year ┆ num_transa ┆ median_yea ┆ avg_yearly ┆ median_tra ┆ average_tr ┆ flipper_ty │\n",
       "│ lip         ┆ ---  ┆ ctions     ┆ rly_return ┆ _return    ┆ nsaction_p ┆ ansaction_ ┆ pe         │\n",
       "│ ---         ┆ i64  ┆ ---        ┆ ---        ┆ ---        ┆ rice_diff  ┆ price_diff ┆ ---        │\n",
       "│ i64         ┆      ┆ u32        ┆ f64        ┆ f64        ┆ ---        ┆ ---        ┆ str        │\n",
       "│             ┆      ┆            ┆            ┆            ┆ f64        ┆ f64        ┆            │\n",
       "╞═════════════╪══════╪════════════╪════════════╪════════════╪════════════╪════════════╪════════════╡\n",
       "│ 0           ┆ 2022 ┆ 1935       ┆ 28197.9442 ┆ 42492.5005 ┆ 240000.0   ┆ 329016.331 ┆ non-flip   │\n",
       "│             ┆      ┆            ┆ 97         ┆ 9          ┆            ┆ 064        ┆ sellers    │\n",
       "│ 1           ┆ 2022 ┆ 112        ┆ 64390.7749 ┆ 132178.069 ┆ 77500.0    ┆ 179191.982 ┆ flip       │\n",
       "│             ┆      ┆            ┆ 73         ┆ 187        ┆            ┆ 143        ┆ sellers    │\n",
       "│ 0           ┆ 2021 ┆ 2149       ┆ 25177.3901 ┆ 171156.384 ┆ 225050.0   ┆ 1.3982e6   ┆ non-flip   │\n",
       "│             ┆      ┆            ┆ 3          ┆ 281        ┆            ┆            ┆ sellers    │\n",
       "│ 1           ┆ 2021 ┆ 107        ┆ 43909.7744 ┆ 197484.459 ┆ 70000.0    ┆ 380510.280 ┆ flip       │\n",
       "│             ┆      ┆            ┆ 36         ┆ 695        ┆            ┆ 374        ┆ sellers    │\n",
       "│ 0           ┆ 2020 ┆ 1417       ┆ 32360.7861 ┆ 135539.042 ┆ 250000.0   ┆ 1.3113e6   ┆ non-flip   │\n",
       "│             ┆      ┆            ┆ 25         ┆ 059        ┆            ┆            ┆ sellers    │\n",
       "│ …           ┆ …    ┆ …          ┆ …          ┆ …          ┆ …          ┆ …          ┆ …          │\n",
       "│ 1           ┆ 2002 ┆ 15         ┆ 29452.4495 ┆ 182224.957 ┆ 29000.0    ┆ -9916.3333 ┆ flip       │\n",
       "│             ┆      ┆            ┆ 68         ┆ 353        ┆            ┆ 33         ┆ sellers    │\n",
       "│ 0           ┆ 2001 ┆ 1936       ┆ null       ┆ null       ┆ 61000.0    ┆ 316010.878 ┆ non-flip   │\n",
       "│             ┆      ┆            ┆            ┆            ┆            ┆ 641        ┆ sellers    │\n",
       "│ 1           ┆ 2001 ┆ 7          ┆ 35636.0946 ┆ 1.0717e6   ┆ 33000.0    ┆ 255372.0   ┆ flip       │\n",
       "│             ┆      ┆            ┆ 75         ┆            ┆            ┆            ┆ sellers    │\n",
       "│ 0           ┆ 2000 ┆ 2520       ┆ null       ┆ null       ┆ 40750.0    ┆ 172681.085 ┆ non-flip   │\n",
       "│             ┆      ┆            ┆            ┆            ┆            ┆ 106        ┆ sellers    │\n",
       "│ 1           ┆ 2000 ┆ 4          ┆ 1.2155e6   ┆ 1.0409e6   ┆ 50750.0    ┆ -7.38195e6 ┆ flip       │\n",
       "│             ┆      ┆            ┆            ┆            ┆            ┆            ┆ sellers    │\n",
       "└─────────────┴──────┴────────────┴────────────┴────────────┴────────────┴────────────┴────────────┘"
      ]
     },
     "execution_count": 84,
     "metadata": {},
     "output_type": "execute_result"
    }
   ],
   "source": [
    "# pl.Config.set_tbl_rows(-1)  # -1 shows all columns (if needed)\n",
    "final_df"
   ]
  },
  {
   "cell_type": "markdown",
   "id": "d66d097a",
   "metadata": {},
   "source": [
    "# Buy side flip"
   ]
  },
  {
   "cell_type": "code",
   "execution_count": 85,
   "id": "af094619",
   "metadata": {},
   "outputs": [
    {
     "data": {
      "text/plain": [
       "'\\nBuy Side Flip Explained\\nA \"buy side flip\" typically refers to a transaction where the buyer is the flipper (investor acquiring the property to resell quickly). This aligns with standard flipping practices where the buyer purchases a property (often distressed or below market value) to renovate and sell for profit.\\nCash Sale Implications\\nIf the transaction is a cash sale, it means the flipper (buyer) paid entirely in cash without financing\\n'"
      ]
     },
     "execution_count": 85,
     "metadata": {},
     "output_type": "execute_result"
    }
   ],
   "source": [
    "df = new_df()\n",
    "buy_side_flip = df.filter(pl.col(\"buy_side_flip\") == 1)\n",
    "\n",
    "\"\"\"\n",
    "Buy Side Flip Explained\n",
    "A \"buy side flip\" typically refers to a transaction where the buyer is the flipper (investor acquiring the property to resell quickly). This aligns with standard flipping practices where the buyer purchases a property (often distressed or below market value) to renovate and sell for profit.\n",
    "Cash Sale Implications\n",
    "If the transaction is a cash sale, it means the flipper (buyer) paid entirely in cash without financing\n",
    "\"\"\""
   ]
  },
  {
   "cell_type": "code",
   "execution_count": null,
   "id": "037df8b5",
   "metadata": {},
   "outputs": [],
   "source": [
    "\n",
    "buy_side_flip = (\n",
    "    buy_side_flip\n",
    "    .group_by([\"cash_sale\", \"year\"])\n",
    "    .agg(\n",
    "        pl.len().alias(\"num_transactions\"),\n",
    "        pl.len().alias(\"num_transactions\"),\n",
    "    )\n",
    ")"
   ]
  },
  {
   "cell_type": "code",
   "execution_count": 87,
   "id": "408474ab",
   "metadata": {},
   "outputs": [
    {
     "data": {
      "text/html": [
       "<div><style>\n",
       ".dataframe > thead > tr,\n",
       ".dataframe > tbody > tr {\n",
       "  text-align: right;\n",
       "  white-space: pre-wrap;\n",
       "}\n",
       "</style>\n",
       "<small>shape: (46, 3)</small><table border=\"1\" class=\"dataframe\"><thead><tr><th>cash_sale</th><th>year</th><th>num_transactions</th></tr><tr><td>i64</td><td>i64</td><td>u32</td></tr></thead><tbody><tr><td>1</td><td>2022</td><td>5</td></tr><tr><td>0</td><td>2022</td><td>3</td></tr><tr><td>0</td><td>2021</td><td>36</td></tr><tr><td>1</td><td>2021</td><td>45</td></tr><tr><td>1</td><td>2020</td><td>49</td></tr><tr><td>&hellip;</td><td>&hellip;</td><td>&hellip;</td></tr><tr><td>0</td><td>2002</td><td>10</td></tr><tr><td>1</td><td>2001</td><td>1</td></tr><tr><td>0</td><td>2001</td><td>16</td></tr><tr><td>1</td><td>2000</td><td>3</td></tr><tr><td>0</td><td>2000</td><td>6</td></tr></tbody></table></div>"
      ],
      "text/plain": [
       "shape: (46, 3)\n",
       "┌───────────┬──────┬──────────────────┐\n",
       "│ cash_sale ┆ year ┆ num_transactions │\n",
       "│ ---       ┆ ---  ┆ ---              │\n",
       "│ i64       ┆ i64  ┆ u32              │\n",
       "╞═══════════╪══════╪══════════════════╡\n",
       "│ 1         ┆ 2022 ┆ 5                │\n",
       "│ 0         ┆ 2022 ┆ 3                │\n",
       "│ 0         ┆ 2021 ┆ 36               │\n",
       "│ 1         ┆ 2021 ┆ 45               │\n",
       "│ 1         ┆ 2020 ┆ 49               │\n",
       "│ …         ┆ …    ┆ …                │\n",
       "│ 0         ┆ 2002 ┆ 10               │\n",
       "│ 1         ┆ 2001 ┆ 1                │\n",
       "│ 0         ┆ 2001 ┆ 16               │\n",
       "│ 1         ┆ 2000 ┆ 3                │\n",
       "│ 0         ┆ 2000 ┆ 6                │\n",
       "└───────────┴──────┴──────────────────┘"
      ]
     },
     "execution_count": 87,
     "metadata": {},
     "output_type": "execute_result"
    }
   ],
   "source": [
    "buy_side_flip.sort(\"year\", descending=True)"
   ]
  },
  {
   "cell_type": "markdown",
   "id": "3d337770",
   "metadata": {},
   "source": []
  }
 ],
 "metadata": {
  "kernelspec": {
   "display_name": "3.11.3",
   "language": "python",
   "name": "python3"
  },
  "language_info": {
   "codemirror_mode": {
    "name": "ipython",
    "version": 3
   },
   "file_extension": ".py",
   "mimetype": "text/x-python",
   "name": "python",
   "nbconvert_exporter": "python",
   "pygments_lexer": "ipython3",
   "version": "3.11.3"
  }
 },
 "nbformat": 4,
 "nbformat_minor": 5
}
