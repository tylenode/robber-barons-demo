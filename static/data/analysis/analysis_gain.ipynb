{
 "cells": [
  {
   "cell_type": "code",
   "execution_count": 326,
   "id": "73e7c8b3",
   "metadata": {},
   "outputs": [],
   "source": [
    "dataset = 'A2_EDA_Residential.csv'"
   ]
  },
  {
   "cell_type": "code",
   "execution_count": 327,
   "id": "45984f78",
   "metadata": {},
   "outputs": [],
   "source": [
    "import polars as pl"
   ]
  },
  {
   "cell_type": "code",
   "execution_count": 328,
   "id": "5f56a97c",
   "metadata": {},
   "outputs": [
    {
     "data": {
      "text/html": [
       "<div><style>\n",
       ".dataframe > thead > tr,\n",
       ".dataframe > tbody > tr {\n",
       "  text-align: right;\n",
       "  white-space: pre-wrap;\n",
       "}\n",
       "</style>\n",
       "<small>shape: (49_301, 65)</small><table border=\"1\" class=\"dataframe\"><thead><tr><th>address</th><th>street</th><th>proptype</th><th>date</th><th>price</th><th>prsldate</th><th>prslpr</th><th>mortgage</th><th>usecode</th><th>usage</th><th>style</th><th>yearbuilt</th><th>totrooms</th><th>bathrooms</th><th>bedrooms</th><th>lotsize</th><th>intersf</th><th>lasqbin</th><th>amenity</th><th>zip</th><th>lat</th><th>lon</th><th>year</th><th>cash_sale</th><th>buyer_llc_ind</th><th>buyer_bus_ind</th><th>buyer_trst_ind</th><th>buyer_bnk_ind</th><th>buyer_gse_ind</th><th>buyer_gov_ind</th><th>seller_llc_ind</th><th>seller_llp_ind</th><th>seller_bus_ind</th><th>seller_trst_ind</th><th>seller_bnk_ind</th><th>seller_gse_ind</th><th>seller_gov_ind</th><th>flip_horizon</th><th>flip_ind</th><th>buy_side_flip</th><th>sell_side_flip</th><th>price_diff</th><th>price_diff_pch</th><th>month_horizon</th><th>flip_term</th><th>buy_horizon</th><th>investor_type_purchase_count</th><th>investor_type_sale_count</th><th>investor_type_purchase_llc</th><th>investor_type_sale_llc</th><th>investor_type_purchase_building</th><th>investor_type_sale_building</th><th>avg_annual_value</th><th>investor_type_purchase_value</th><th>investor_type_sale_value</th><th>current_owner</th><th>restype_R1F</th><th>tot_owned</th><th>buyer_purchases</th><th>R1F_total</th><th>investor_type_purchase</th><th>investor_type_sale</th><th>inv_to_inv</th><th>flip_horizon_years</th><th>yearly_return</th></tr><tr><td>str</td><td>str</td><td>str</td><td>i64</td><td>f64</td><td>str</td><td>f64</td><td>f64</td><td>i64</td><td>str</td><td>str</td><td>i64</td><td>i64</td><td>i64</td><td>i64</td><td>i64</td><td>i64</td><td>str</td><td>str</td><td>i64</td><td>f64</td><td>f64</td><td>i64</td><td>i64</td><td>i64</td><td>i64</td><td>i64</td><td>i64</td><td>i64</td><td>i64</td><td>i64</td><td>i64</td><td>i64</td><td>i64</td><td>i64</td><td>i64</td><td>i64</td><td>i64</td><td>i64</td><td>i64</td><td>i64</td><td>f64</td><td>f64</td><td>str</td><td>str</td><td>str</td><td>str</td><td>str</td><td>str</td><td>str</td><td>str</td><td>str</td><td>f64</td><td>str</td><td>str</td><td>i64</td><td>i64</td><td>i64</td><td>i64</td><td>i64</td><td>str</td><td>str</td><td>i64</td><td>f64</td><td>f64</td></tr></thead><tbody><tr><td>&quot;48 Commercial Wharf #48&quot;</td><td>&quot;Commercial Wharf&quot;</td><td>&quot;RCD&quot;</td><td>2012</td><td>899000.0</td><td>&quot;07/08/11&quot;</td><td>830000.0</td><td>0.0</td><td>102</td><td>&quot;CONDOMINIUM&quot;</td><td>&quot;MID-RISE&quot;</td><td>1875</td><td>5</td><td>2</td><td>2</td><td>1043</td><td>1043</td><td>&quot;1001:1100&quot;</td><td>&quot;U&quot;</td><td>2110</td><td>42.362099</td><td>-71.050169</td><td>2012</td><td>1</td><td>0</td><td>0</td><td>0</td><td>0</td><td>0</td><td>0</td><td>0</td><td>0</td><td>0</td><td>0</td><td>0</td><td>0</td><td>0</td><td>431</td><td>1</td><td>0</td><td>1</td><td>69000.0</td><td>8.31</td><td>&quot;14&quot;</td><td>&quot;Long-term&quot;</td><td>&quot;2017-09-11&quot;</td><td>&quot;Non-count investor&quot;</td><td>&quot;Non-count investor&quot;</td><td>&quot;Non-Small LLC&quot;</td><td>&quot;Non-Small LLC&quot;</td><td>&quot;Non-building investor&quot;</td><td>&quot;Non-building investor&quot;</td><td>39086.956522</td><td>&quot;Non-value investor&quot;</td><td>&quot;Non-value investor&quot;</td><td>1</td><td>0</td><td>1</td><td>1</td><td>0</td><td>&quot;Non-investor&quot;</td><td>&quot;Non-investor&quot;</td><td>0</td><td>1.180822</td><td>58433.87471</td></tr><tr><td>&quot;6 Arlington St #9&quot;</td><td>&quot;Arlington St&quot;</td><td>&quot;RCD&quot;</td><td>2008</td><td>4.867787e6</td><td>null</td><td>0.0</td><td>2.25e6</td><td>102</td><td>&quot;CONDOMINIUM&quot;</td><td>&quot;MID-RISE&quot;</td><td>1910</td><td>7</td><td>4</td><td>3</td><td>3319</td><td>3319</td><td>&quot;3301:3400&quot;</td><td>&quot;U&quot;</td><td>2116</td><td>42.354791</td><td>-71.072323</td><td>2008</td><td>0</td><td>0</td><td>0</td><td>1</td><td>0</td><td>0</td><td>0</td><td>1</td><td>0</td><td>0</td><td>0</td><td>0</td><td>0</td><td>0</td><td>null</td><td>0</td><td>0</td><td>0</td><td>null</td><td>null</td><td>null</td><td>&quot;Non-flip&quot;</td><td>&quot;2013-10-23&quot;</td><td>&quot;Non-count investor&quot;</td><td>&quot;Non-count investor&quot;</td><td>&quot;Non-Small LLC&quot;</td><td>&quot;Small LLC&quot;</td><td>&quot;Non-building investor&quot;</td><td>&quot;Non-building investor&quot;</td><td>211642.913043</td><td>&quot;Small&quot;</td><td>&quot;Small&quot;</td><td>0</td><td>0</td><td>0</td><td>1</td><td>0</td><td>&quot;Small&quot;</td><td>&quot;Small&quot;</td><td>1</td><td>null</td><td>null</td></tr><tr><td>&quot;1 Charles St S #902&quot;</td><td>&quot;Charles St S&quot;</td><td>&quot;RCD&quot;</td><td>2014</td><td>807500.0</td><td>&quot;11/06/08&quot;</td><td>665000.0</td><td>160000.0</td><td>102</td><td>&quot;CONDOMINIUM&quot;</td><td>&quot;HIGH-RISE&quot;</td><td>2004</td><td>3</td><td>2</td><td>1</td><td>926</td><td>926</td><td>&quot;901:1000&quot;</td><td>&quot;U&quot;</td><td>2116</td><td>42.351787</td><td>-71.067367</td><td>2014</td><td>0</td><td>1</td><td>0</td><td>0</td><td>0</td><td>0</td><td>0</td><td>0</td><td>0</td><td>0</td><td>0</td><td>0</td><td>0</td><td>0</td><td>2204</td><td>0</td><td>0</td><td>0</td><td>142500.0</td><td>21.43</td><td>&quot;24+&quot;</td><td>&quot;Non-flip&quot;</td><td>&quot;2019-11-19&quot;</td><td>&quot;Non-count investor&quot;</td><td>&quot;Non-count investor&quot;</td><td>&quot;Small LLC&quot;</td><td>&quot;Non-Small LLC&quot;</td><td>&quot;Non-building investor&quot;</td><td>&quot;Non-building investor&quot;</td><td>35108.695652</td><td>&quot;Non-value investor&quot;</td><td>&quot;Non-value investor&quot;</td><td>0</td><td>0</td><td>0</td><td>1</td><td>0</td><td>&quot;Small&quot;</td><td>&quot;Non-investor&quot;</td><td>0</td><td>6.038356</td><td>23599.137931</td></tr><tr><td>&quot;1 Avery St #31B&quot;</td><td>&quot;Avery St&quot;</td><td>&quot;RCD&quot;</td><td>2013</td><td>3.475e6</td><td>&quot;08/29/08&quot;</td><td>3.05e6</td><td>0.0</td><td>102</td><td>&quot;CONDOMINIUM&quot;</td><td>&quot;HIGH-RISE&quot;</td><td>2000</td><td>7</td><td>5</td><td>3</td><td>2667</td><td>2667</td><td>&quot;2601:2700&quot;</td><td>&quot;U&quot;</td><td>2111</td><td>42.35337</td><td>-71.062515</td><td>2013</td><td>1</td><td>0</td><td>0</td><td>1</td><td>0</td><td>0</td><td>0</td><td>0</td><td>0</td><td>0</td><td>0</td><td>0</td><td>0</td><td>0</td><td>1826</td><td>0</td><td>0</td><td>0</td><td>425000.0</td><td>13.93</td><td>&quot;24+&quot;</td><td>&quot;Non-flip&quot;</td><td>&quot;2018-08-29&quot;</td><td>&quot;Non-count investor&quot;</td><td>&quot;Non-count investor&quot;</td><td>&quot;Non-Small LLC&quot;</td><td>&quot;Non-Small LLC&quot;</td><td>&quot;Non-building investor&quot;</td><td>&quot;Non-building investor&quot;</td><td>151086.956522</td><td>&quot;Small&quot;</td><td>&quot;Small&quot;</td><td>1</td><td>0</td><td>1</td><td>1</td><td>0</td><td>&quot;Small&quot;</td><td>&quot;Small&quot;</td><td>1</td><td>5.00274</td><td>84953.450164</td></tr><tr><td>&quot;1 Avery St #10D&quot;</td><td>&quot;Avery St&quot;</td><td>&quot;RCD&quot;</td><td>2009</td><td>845000.0</td><td>&quot;03/29/07&quot;</td><td>845000.0</td><td>0.0</td><td>102</td><td>&quot;CONDOMINIUM&quot;</td><td>&quot;HIGH-RISE&quot;</td><td>2000</td><td>4</td><td>2</td><td>2</td><td>1087</td><td>1087</td><td>&quot;1001:1100&quot;</td><td>&quot;U&quot;</td><td>2111</td><td>42.35337</td><td>-71.062515</td><td>2009</td><td>1</td><td>0</td><td>0</td><td>1</td><td>0</td><td>0</td><td>0</td><td>0</td><td>0</td><td>1</td><td>0</td><td>0</td><td>0</td><td>0</td><td>null</td><td>0</td><td>0</td><td>0</td><td>0.0</td><td>0.0</td><td>null</td><td>&quot;Non-flip&quot;</td><td>&quot;2014-04-30&quot;</td><td>&quot;Non-count investor&quot;</td><td>&quot;Non-count investor&quot;</td><td>&quot;Non-Small LLC&quot;</td><td>&quot;Non-Small LLC&quot;</td><td>&quot;Non-building investor&quot;</td><td>&quot;Non-building investor&quot;</td><td>36739.130435</td><td>&quot;Non-value investor&quot;</td><td>&quot;Non-value investor&quot;</td><td>0</td><td>0</td><td>0</td><td>1</td><td>0</td><td>&quot;Non-investor&quot;</td><td>&quot;Non-investor&quot;</td><td>0</td><td>null</td><td>null</td></tr><tr><td>&hellip;</td><td>&hellip;</td><td>&hellip;</td><td>&hellip;</td><td>&hellip;</td><td>&hellip;</td><td>&hellip;</td><td>&hellip;</td><td>&hellip;</td><td>&hellip;</td><td>&hellip;</td><td>&hellip;</td><td>&hellip;</td><td>&hellip;</td><td>&hellip;</td><td>&hellip;</td><td>&hellip;</td><td>&hellip;</td><td>&hellip;</td><td>&hellip;</td><td>&hellip;</td><td>&hellip;</td><td>&hellip;</td><td>&hellip;</td><td>&hellip;</td><td>&hellip;</td><td>&hellip;</td><td>&hellip;</td><td>&hellip;</td><td>&hellip;</td><td>&hellip;</td><td>&hellip;</td><td>&hellip;</td><td>&hellip;</td><td>&hellip;</td><td>&hellip;</td><td>&hellip;</td><td>&hellip;</td><td>&hellip;</td><td>&hellip;</td><td>&hellip;</td><td>&hellip;</td><td>&hellip;</td><td>&hellip;</td><td>&hellip;</td><td>&hellip;</td><td>&hellip;</td><td>&hellip;</td><td>&hellip;</td><td>&hellip;</td><td>&hellip;</td><td>&hellip;</td><td>&hellip;</td><td>&hellip;</td><td>&hellip;</td><td>&hellip;</td><td>&hellip;</td><td>&hellip;</td><td>&hellip;</td><td>&hellip;</td><td>&hellip;</td><td>&hellip;</td><td>&hellip;</td><td>&hellip;</td><td>&hellip;</td></tr><tr><td>&quot;27 Claremont Park&quot;</td><td>&quot;Claremont Park&quot;</td><td>&quot;R2F&quot;</td><td>2001</td><td>889000.0</td><td>&quot;11/18/92&quot;</td><td>165000.0</td><td>500000.0</td><td>104</td><td>&quot;2-FAM RES&quot;</td><td>&quot;ROW-MIDDLE&quot;</td><td>1870</td><td>6</td><td>3</td><td>2</td><td>910</td><td>1836</td><td>&quot;1801:1900&quot;</td><td>&quot;U&quot;</td><td>2118</td><td>42.342284</td><td>-71.082044</td><td>2001</td><td>0</td><td>0</td><td>0</td><td>0</td><td>0</td><td>0</td><td>0</td><td>0</td><td>0</td><td>0</td><td>0</td><td>0</td><td>0</td><td>0</td><td>null</td><td>0</td><td>0</td><td>0</td><td>null</td><td>null</td><td>null</td><td>&quot;Non-flip&quot;</td><td>&quot;2006-07-24&quot;</td><td>&quot;Non-count investor&quot;</td><td>&quot;Non-count investor&quot;</td><td>&quot;Non-Small LLC&quot;</td><td>&quot;Non-Small LLC&quot;</td><td>&quot;Non-building investor&quot;</td><td>&quot;Non-building investor&quot;</td><td>38652.173913</td><td>&quot;Non-value investor&quot;</td><td>&quot;Non-value investor&quot;</td><td>1</td><td>0</td><td>1</td><td>1</td><td>0</td><td>&quot;Non-investor&quot;</td><td>&quot;Non-investor&quot;</td><td>0</td><td>null</td><td>null</td></tr><tr><td>&quot;692 Tremont St #6&quot;</td><td>&quot;Tremont St&quot;</td><td>&quot;RCD&quot;</td><td>2013</td><td>675000.0</td><td>null</td><td>0.0</td><td>410000.0</td><td>102</td><td>&quot;CONDOMINIUM&quot;</td><td>&quot;ROW-END&quot;</td><td>1899</td><td>4</td><td>1</td><td>2</td><td>870</td><td>870</td><td>&quot;801:900&quot;</td><td>&quot;U&quot;</td><td>2118</td><td>42.340857</td><td>-71.077302</td><td>2013</td><td>0</td><td>0</td><td>0</td><td>0</td><td>0</td><td>0</td><td>0</td><td>0</td><td>0</td><td>0</td><td>0</td><td>0</td><td>0</td><td>0</td><td>null</td><td>0</td><td>0</td><td>0</td><td>null</td><td>null</td><td>null</td><td>&quot;Non-flip&quot;</td><td>&quot;2018-04-25&quot;</td><td>&quot;Non-count investor&quot;</td><td>&quot;Non-count investor&quot;</td><td>&quot;Non-Small LLC&quot;</td><td>&quot;Non-Small LLC&quot;</td><td>&quot;Non-building investor&quot;</td><td>&quot;Non-building investor&quot;</td><td>29347.826087</td><td>&quot;Non-value investor&quot;</td><td>&quot;Non-value investor&quot;</td><td>0</td><td>0</td><td>0</td><td>1</td><td>0</td><td>&quot;Non-investor&quot;</td><td>&quot;Non-investor&quot;</td><td>0</td><td>null</td><td>null</td></tr><tr><td>&quot;7 Stillman Pl #9&quot;</td><td>&quot;Stillman Pl&quot;</td><td>&quot;RCD&quot;</td><td>2020</td><td>740000.0</td><td>&quot;08/22/14&quot;</td><td>570000.0</td><td>440000.0</td><td>102</td><td>&quot;CONDOMINIUM&quot;</td><td>&quot;MID-RISE&quot;</td><td>1910</td><td>4</td><td>1</td><td>2</td><td>726</td><td>726</td><td>&quot;701:800&quot;</td><td>&quot;U&quot;</td><td>2113</td><td>42.363877</td><td>-71.057595</td><td>2020</td><td>0</td><td>0</td><td>0</td><td>0</td><td>0</td><td>0</td><td>0</td><td>0</td><td>0</td><td>0</td><td>0</td><td>0</td><td>0</td><td>0</td><td>2162</td><td>0</td><td>0</td><td>0</td><td>170000.0</td><td>29.82</td><td>&quot;24+&quot;</td><td>&quot;Non-flip&quot;</td><td>&quot;2025-07-23&quot;</td><td>&quot;Non-count investor&quot;</td><td>&quot;Non-count investor&quot;</td><td>&quot;Non-Small LLC&quot;</td><td>&quot;Non-Small LLC&quot;</td><td>&quot;Non-building investor&quot;</td><td>&quot;Non-building investor&quot;</td><td>32173.913043</td><td>&quot;Non-value investor&quot;</td><td>&quot;Non-value investor&quot;</td><td>1</td><td>0</td><td>1</td><td>1</td><td>0</td><td>&quot;Non-investor&quot;</td><td>&quot;Non-investor&quot;</td><td>0</td><td>5.923288</td><td>28700.277521</td></tr><tr><td>&quot;239 W Canton St #1&quot;</td><td>&quot;W Canton St&quot;</td><td>&quot;RCD&quot;</td><td>2003</td><td>966000.0</td><td>&quot;04/28/99&quot;</td><td>755000.0</td><td>0.0</td><td>102</td><td>&quot;CONDOMINIUM&quot;</td><td>&quot;ROW-MIDDLE&quot;</td><td>1900</td><td>6</td><td>3</td><td>3</td><td>1839</td><td>1839</td><td>&quot;1801:1900&quot;</td><td>null</td><td>2116</td><td>42.345332</td><td>-71.077095</td><td>2003</td><td>1</td><td>0</td><td>0</td><td>0</td><td>0</td><td>0</td><td>0</td><td>0</td><td>0</td><td>0</td><td>0</td><td>0</td><td>0</td><td>0</td><td>null</td><td>0</td><td>0</td><td>0</td><td>null</td><td>null</td><td>null</td><td>&quot;Non-flip&quot;</td><td>&quot;2008-12-22&quot;</td><td>&quot;Non-count investor&quot;</td><td>&quot;Non-count investor&quot;</td><td>&quot;Non-Small LLC&quot;</td><td>&quot;Non-Small LLC&quot;</td><td>&quot;Non-building investor&quot;</td><td>&quot;Non-building investor&quot;</td><td>42000.0</td><td>&quot;Non-value investor&quot;</td><td>&quot;Non-value investor&quot;</td><td>0</td><td>0</td><td>0</td><td>1</td><td>0</td><td>&quot;Non-investor&quot;</td><td>&quot;Non-investor&quot;</td><td>0</td><td>null</td><td>null</td></tr><tr><td>&quot;44 Prince St #208&quot;</td><td>&quot;Prince St&quot;</td><td>&quot;RCD&quot;</td><td>2006</td><td>244100.0</td><td>null</td><td>0.0</td><td>0.0</td><td>102</td><td>&quot;CONDOMINIUM&quot;</td><td>&quot;MID-RISE&quot;</td><td>2005</td><td>5</td><td>2</td><td>2</td><td>1115</td><td>1115</td><td>&quot;1101:1200&quot;</td><td>&quot;U&quot;</td><td>2113</td><td>42.364754</td><td>-71.054841</td><td>2006</td><td>1</td><td>0</td><td>0</td><td>0</td><td>0</td><td>0</td><td>0</td><td>1</td><td>0</td><td>0</td><td>0</td><td>0</td><td>0</td><td>0</td><td>null</td><td>0</td><td>0</td><td>0</td><td>null</td><td>null</td><td>null</td><td>&quot;Non-flip&quot;</td><td>&quot;2011-07-28&quot;</td><td>&quot;Non-count investor&quot;</td><td>&quot;Non-count investor&quot;</td><td>&quot;Non-Small LLC&quot;</td><td>&quot;Small LLC&quot;</td><td>&quot;Non-building investor&quot;</td><td>&quot;Non-building investor&quot;</td><td>10613.043478</td><td>&quot;Non-value investor&quot;</td><td>&quot;Non-value investor&quot;</td><td>1</td><td>0</td><td>1</td><td>1</td><td>0</td><td>&quot;Non-investor&quot;</td><td>&quot;Small&quot;</td><td>0</td><td>null</td><td>null</td></tr></tbody></table></div>"
      ],
      "text/plain": [
       "shape: (49_301, 65)\n",
       "┌────────────┬────────────┬──────────┬──────┬───┬────────────┬────────────┬────────────┬───────────┐\n",
       "│ address    ┆ street     ┆ proptype ┆ date ┆ … ┆ investor_t ┆ inv_to_inv ┆ flip_horiz ┆ yearly_re │\n",
       "│ ---        ┆ ---        ┆ ---      ┆ ---  ┆   ┆ ype_sale   ┆ ---        ┆ on_years   ┆ turn      │\n",
       "│ str        ┆ str        ┆ str      ┆ i64  ┆   ┆ ---        ┆ i64        ┆ ---        ┆ ---       │\n",
       "│            ┆            ┆          ┆      ┆   ┆ str        ┆            ┆ f64        ┆ f64       │\n",
       "╞════════════╪════════════╪══════════╪══════╪═══╪════════════╪════════════╪════════════╪═══════════╡\n",
       "│ 48         ┆ Commercial ┆ RCD      ┆ 2012 ┆ … ┆ Non-invest ┆ 0          ┆ 1.180822   ┆ 58433.874 │\n",
       "│ Commercial ┆ Wharf      ┆          ┆      ┆   ┆ or         ┆            ┆            ┆ 71        │\n",
       "│ Wharf #48  ┆            ┆          ┆      ┆   ┆            ┆            ┆            ┆           │\n",
       "│ 6          ┆ Arlington  ┆ RCD      ┆ 2008 ┆ … ┆ Small      ┆ 1          ┆ null       ┆ null      │\n",
       "│ Arlington  ┆ St         ┆          ┆      ┆   ┆            ┆            ┆            ┆           │\n",
       "│ St #9      ┆            ┆          ┆      ┆   ┆            ┆            ┆            ┆           │\n",
       "│ 1 Charles  ┆ Charles St ┆ RCD      ┆ 2014 ┆ … ┆ Non-invest ┆ 0          ┆ 6.038356   ┆ 23599.137 │\n",
       "│ St S #902  ┆ S          ┆          ┆      ┆   ┆ or         ┆            ┆            ┆ 931       │\n",
       "│ 1 Avery St ┆ Avery St   ┆ RCD      ┆ 2013 ┆ … ┆ Small      ┆ 1          ┆ 5.00274    ┆ 84953.450 │\n",
       "│ #31B       ┆            ┆          ┆      ┆   ┆            ┆            ┆            ┆ 164       │\n",
       "│ 1 Avery St ┆ Avery St   ┆ RCD      ┆ 2009 ┆ … ┆ Non-invest ┆ 0          ┆ null       ┆ null      │\n",
       "│ #10D       ┆            ┆          ┆      ┆   ┆ or         ┆            ┆            ┆           │\n",
       "│ …          ┆ …          ┆ …        ┆ …    ┆ … ┆ …          ┆ …          ┆ …          ┆ …         │\n",
       "│ 27         ┆ Claremont  ┆ R2F      ┆ 2001 ┆ … ┆ Non-invest ┆ 0          ┆ null       ┆ null      │\n",
       "│ Claremont  ┆ Park       ┆          ┆      ┆   ┆ or         ┆            ┆            ┆           │\n",
       "│ Park       ┆            ┆          ┆      ┆   ┆            ┆            ┆            ┆           │\n",
       "│ 692        ┆ Tremont St ┆ RCD      ┆ 2013 ┆ … ┆ Non-invest ┆ 0          ┆ null       ┆ null      │\n",
       "│ Tremont St ┆            ┆          ┆      ┆   ┆ or         ┆            ┆            ┆           │\n",
       "│ #6         ┆            ┆          ┆      ┆   ┆            ┆            ┆            ┆           │\n",
       "│ 7 Stillman ┆ Stillman   ┆ RCD      ┆ 2020 ┆ … ┆ Non-invest ┆ 0          ┆ 5.923288   ┆ 28700.277 │\n",
       "│ Pl #9      ┆ Pl         ┆          ┆      ┆   ┆ or         ┆            ┆            ┆ 521       │\n",
       "│ 239 W      ┆ W Canton   ┆ RCD      ┆ 2003 ┆ … ┆ Non-invest ┆ 0          ┆ null       ┆ null      │\n",
       "│ Canton St  ┆ St         ┆          ┆      ┆   ┆ or         ┆            ┆            ┆           │\n",
       "│ #1         ┆            ┆          ┆      ┆   ┆            ┆            ┆            ┆           │\n",
       "│ 44 Prince  ┆ Prince St  ┆ RCD      ┆ 2006 ┆ … ┆ Small      ┆ 0          ┆ null       ┆ null      │\n",
       "│ St #208    ┆            ┆          ┆      ┆   ┆            ┆            ┆            ┆           │\n",
       "└────────────┴────────────┴──────────┴──────┴───┴────────────┴────────────┴────────────┴───────────┘"
      ]
     },
     "execution_count": 328,
     "metadata": {},
     "output_type": "execute_result"
    }
   ],
   "source": [
    "def new_df():\n",
    "    df = pl.read_csv(dataset)\n",
    "    df = (\n",
    "        df.with_columns(\n",
    "            pl.col(\"date\").str.split(\"-\").list.get(0).cast(int).alias(\"date\")\n",
    "        )\n",
    "    )\n",
    "    df = df.with_columns(\n",
    "    (pl.col(\"flip_horizon\") / 365.0).alias(\"flip_horizon_years\")\n",
    "    )\n",
    "    df = df.with_columns(\n",
    "        (pl.col(\"price_diff\") / pl.col(\"flip_horizon_years\")).alias(\"yearly_return\")\n",
    "    )\n",
    "    return df\n",
    "\n",
    "df = new_df()\n",
    "df\n",
    "# df[\"year\"].max()\n",
    "# df = df.filter(year = 2022)"
   ]
  },
  {
   "cell_type": "code",
   "execution_count": 329,
   "id": "420209f2",
   "metadata": {},
   "outputs": [],
   "source": [
    "# df = df.filter(pl.col(\"flip_ind\") == 0)\n",
    "# df.head()"
   ]
  },
  {
   "cell_type": "code",
   "execution_count": 330,
   "id": "828f9318",
   "metadata": {},
   "outputs": [
    {
     "name": "stdout",
     "output_type": "stream",
     "text": [
      "33070\n",
      "883\n",
      "2.6700937405503478\n"
     ]
    }
   ],
   "source": [
    "# All transactions, all players, what is the flip rate\n",
    "non_investor_sales = df.filter(pl.col(\"investor_type_sale\") == \"Non-investor\")\n",
    "non_investor_sales = non_investor_sales.with_columns(\n",
    "    pl.lit(False).alias(\"isLarge\")\n",
    ")\n",
    "\n",
    "non_investor_sales_sell_side_flip = non_investor_sales.filter(pl.col(\"sell_side_flip\") == True)\n",
    "non_investor_flip_rate = non_investor_sales_sell_side_flip.shape[0] / non_investor_sales.shape[0]\n",
    "print(len(non_investor_sales))\n",
    "print(len(non_investor_sales_sell_side_flip))\n",
    "print(non_investor_flip_rate * 100)\n"
   ]
  },
  {
   "cell_type": "code",
   "execution_count": null,
   "id": "e033a225",
   "metadata": {},
   "outputs": [
    {
     "name": "stdout",
     "output_type": "stream",
     "text": [
      "3302\n",
      "246\n",
      "7.450030284675954\n"
     ]
    },
    {
     "data": {
      "text/html": [
       "<div><style>\n",
       ".dataframe > thead > tr,\n",
       ".dataframe > tbody > tr {\n",
       "  text-align: right;\n",
       "  white-space: pre-wrap;\n",
       "}\n",
       "</style>\n",
       "<small>shape: (2, 3)</small><table border=\"1\" class=\"dataframe\"><thead><tr><th>isLarge</th><th>median_yearly_return</th><th>median_yearly_return_rate</th></tr><tr><td>bool</td><td>f64</td><td>f64</td></tr></thead><tbody><tr><td>false</td><td>51798.679868</td><td>0.077385</td></tr><tr><td>true</td><td>188712.658442</td><td>0.204116</td></tr></tbody></table></div>"
      ],
      "text/plain": [
       "shape: (2, 3)\n",
       "┌─────────┬──────────────────────┬───────────────────────────┐\n",
       "│ isLarge ┆ median_yearly_return ┆ median_yearly_return_rate │\n",
       "│ ---     ┆ ---                  ┆ ---                       │\n",
       "│ bool    ┆ f64                  ┆ f64                       │\n",
       "╞═════════╪══════════════════════╪═══════════════════════════╡\n",
       "│ false   ┆ 51798.679868         ┆ 0.077385                  │\n",
       "│ true    ┆ 188712.658442        ┆ 0.204116                  │\n",
       "└─────────┴──────────────────────┴───────────────────────────┘"
      ]
     },
     "execution_count": 331,
     "metadata": {},
     "output_type": "execute_result"
    }
   ],
   "source": [
    "# All transactions, all players, what is the flip rate\n",
    "target_set = [\"Large\", \"Institutional\"]\n",
    "rich_investor_sales =  df.filter(pl.col(\"investor_type_sale\").is_in(target_set))\n",
    "rich_investor_sales = rich_investor_sales.with_columns(\n",
    "    pl.lit(True).alias(\"isLarge\")\n",
    ")\n",
    "\n",
    "rich_investor_sales_sell_side_flips = rich_investor_sales.filter(pl.col(\"sell_side_flip\") == True)\n",
    "rich_investor_flip_rate = rich_investor_sales_sell_side_flips.shape[0] / rich_investor_sales.shape[0]\n",
    "print(len(rich_investor_sales))\n",
    "print(len(rich_investor_sales_sell_side_flips))\n",
    "print(rich_investor_flip_rate * 100)\n",
    "\n",
    "\n",
    "all = pl.concat([non_investor_sales, rich_investor_sales])\n",
    "all = all.with_columns(\n",
    "    (pl.col(\"prslpr\")).alias(\"original_price\")\n",
    ")\n",
    "\n",
    "all_flips = pl.concat([non_investor_sales_sell_side_flip, rich_investor_sales_sell_side_flips])\n",
    "all_flips = all_flips.group_by(\"isLarge\").agg(\n",
    "    (pl.col(\"yearly_return\")).median().alias(\"median_yearly_return\"),\n",
    "    (pl.col(\"yearly_return\") / pl.col(\"prslpr\")).median().alias(\"median_yearly_return_rate\"),\n",
    ")\n",
    "all_flips\n"
   ]
  },
  {
   "cell_type": "markdown",
   "id": "3d337770",
   "metadata": {},
   "source": []
  }
 ],
 "metadata": {
  "kernelspec": {
   "display_name": "3.11.3",
   "language": "python",
   "name": "python3"
  },
  "language_info": {
   "codemirror_mode": {
    "name": "ipython",
    "version": 3
   },
   "file_extension": ".py",
   "mimetype": "text/x-python",
   "name": "python",
   "nbconvert_exporter": "python",
   "pygments_lexer": "ipython3",
   "version": "3.11.3"
  }
 },
 "nbformat": 4,
 "nbformat_minor": 5
}
