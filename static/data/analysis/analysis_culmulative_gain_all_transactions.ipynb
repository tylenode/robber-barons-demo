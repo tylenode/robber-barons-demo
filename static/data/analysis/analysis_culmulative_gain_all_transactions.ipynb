{
 "cells": [
  {
   "cell_type": "code",
   "execution_count": 124,
   "id": "73e7c8b3",
   "metadata": {},
   "outputs": [],
   "source": [
    "dataset = 'A2_EDA_Residential.csv'"
   ]
  },
  {
   "cell_type": "code",
   "execution_count": 125,
   "id": "ce2264ca",
   "metadata": {},
   "outputs": [
    {
     "data": {
      "text/plain": [
       "'\\nget the total culmulative gain from all transactions for large and institutional\\nover the years\\n'"
      ]
     },
     "execution_count": 125,
     "metadata": {},
     "output_type": "execute_result"
    }
   ],
   "source": [
    "\"\"\"\n",
    "get the total culmulative gain from all transactions for large and institutional\n",
    "over the years\n",
    "\"\"\""
   ]
  },
  {
   "cell_type": "code",
   "execution_count": 126,
   "id": "45984f78",
   "metadata": {},
   "outputs": [],
   "source": [
    "import polars as pl"
   ]
  },
  {
   "cell_type": "code",
   "execution_count": 127,
   "id": "5f56a97c",
   "metadata": {},
   "outputs": [
    {
     "data": {
      "text/html": [
       "<div><style>\n",
       ".dataframe > thead > tr,\n",
       ".dataframe > tbody > tr {\n",
       "  text-align: right;\n",
       "  white-space: pre-wrap;\n",
       "}\n",
       "</style>\n",
       "<small>shape: (25_532, 65)</small><table border=\"1\" class=\"dataframe\"><thead><tr><th>address</th><th>street</th><th>proptype</th><th>date</th><th>price</th><th>prsldate</th><th>prslpr</th><th>mortgage</th><th>usecode</th><th>usage</th><th>style</th><th>yearbuilt</th><th>totrooms</th><th>bathrooms</th><th>bedrooms</th><th>lotsize</th><th>intersf</th><th>lasqbin</th><th>amenity</th><th>zip</th><th>lat</th><th>lon</th><th>year</th><th>cash_sale</th><th>buyer_llc_ind</th><th>buyer_bus_ind</th><th>buyer_trst_ind</th><th>buyer_bnk_ind</th><th>buyer_gse_ind</th><th>buyer_gov_ind</th><th>seller_llc_ind</th><th>seller_llp_ind</th><th>seller_bus_ind</th><th>seller_trst_ind</th><th>seller_bnk_ind</th><th>seller_gse_ind</th><th>seller_gov_ind</th><th>flip_horizon</th><th>flip_ind</th><th>buy_side_flip</th><th>sell_side_flip</th><th>price_diff</th><th>price_diff_pch</th><th>month_horizon</th><th>flip_term</th><th>buy_horizon</th><th>investor_type_purchase_count</th><th>investor_type_sale_count</th><th>investor_type_purchase_llc</th><th>investor_type_sale_llc</th><th>investor_type_purchase_building</th><th>investor_type_sale_building</th><th>avg_annual_value</th><th>investor_type_purchase_value</th><th>investor_type_sale_value</th><th>current_owner</th><th>restype_R1F</th><th>tot_owned</th><th>buyer_purchases</th><th>R1F_total</th><th>investor_type_purchase</th><th>investor_type_sale</th><th>inv_to_inv</th><th>flip_horizon_years</th><th>yearly_return</th></tr><tr><td>str</td><td>str</td><td>str</td><td>i64</td><td>f64</td><td>str</td><td>f64</td><td>f64</td><td>i64</td><td>str</td><td>str</td><td>i64</td><td>i64</td><td>i64</td><td>i64</td><td>i64</td><td>i64</td><td>str</td><td>str</td><td>i64</td><td>f64</td><td>f64</td><td>i64</td><td>i64</td><td>i64</td><td>i64</td><td>i64</td><td>i64</td><td>i64</td><td>i64</td><td>i64</td><td>i64</td><td>i64</td><td>i64</td><td>i64</td><td>i64</td><td>i64</td><td>i64</td><td>i64</td><td>i64</td><td>i64</td><td>f64</td><td>f64</td><td>str</td><td>str</td><td>str</td><td>str</td><td>str</td><td>str</td><td>str</td><td>str</td><td>str</td><td>f64</td><td>str</td><td>str</td><td>i64</td><td>i64</td><td>i64</td><td>i64</td><td>i64</td><td>str</td><td>str</td><td>i64</td><td>f64</td><td>f64</td></tr></thead><tbody><tr><td>&quot;48 Commercial Wharf #48&quot;</td><td>&quot;Commercial Wharf&quot;</td><td>&quot;RCD&quot;</td><td>2012</td><td>899000.0</td><td>&quot;07/08/11&quot;</td><td>830000.0</td><td>0.0</td><td>102</td><td>&quot;CONDOMINIUM&quot;</td><td>&quot;MID-RISE&quot;</td><td>1875</td><td>5</td><td>2</td><td>2</td><td>1043</td><td>1043</td><td>&quot;1001:1100&quot;</td><td>&quot;U&quot;</td><td>2110</td><td>42.362099</td><td>-71.050169</td><td>2012</td><td>1</td><td>0</td><td>0</td><td>0</td><td>0</td><td>0</td><td>0</td><td>0</td><td>0</td><td>0</td><td>0</td><td>0</td><td>0</td><td>0</td><td>431</td><td>1</td><td>0</td><td>1</td><td>69000.0</td><td>8.31</td><td>&quot;14&quot;</td><td>&quot;Long-term&quot;</td><td>&quot;2017-09-11&quot;</td><td>&quot;Non-count investor&quot;</td><td>&quot;Non-count investor&quot;</td><td>&quot;Non-Small LLC&quot;</td><td>&quot;Non-Small LLC&quot;</td><td>&quot;Non-building investor&quot;</td><td>&quot;Non-building investor&quot;</td><td>39086.956522</td><td>&quot;Non-value investor&quot;</td><td>&quot;Non-value investor&quot;</td><td>1</td><td>0</td><td>1</td><td>1</td><td>0</td><td>&quot;Non-investor&quot;</td><td>&quot;Non-investor&quot;</td><td>0</td><td>1.180822</td><td>58433.87471</td></tr><tr><td>&quot;1 Charles St S #902&quot;</td><td>&quot;Charles St S&quot;</td><td>&quot;RCD&quot;</td><td>2014</td><td>807500.0</td><td>&quot;11/06/08&quot;</td><td>665000.0</td><td>160000.0</td><td>102</td><td>&quot;CONDOMINIUM&quot;</td><td>&quot;HIGH-RISE&quot;</td><td>2004</td><td>3</td><td>2</td><td>1</td><td>926</td><td>926</td><td>&quot;901:1000&quot;</td><td>&quot;U&quot;</td><td>2116</td><td>42.351787</td><td>-71.067367</td><td>2014</td><td>0</td><td>1</td><td>0</td><td>0</td><td>0</td><td>0</td><td>0</td><td>0</td><td>0</td><td>0</td><td>0</td><td>0</td><td>0</td><td>0</td><td>2204</td><td>0</td><td>0</td><td>0</td><td>142500.0</td><td>21.43</td><td>&quot;24+&quot;</td><td>&quot;Non-flip&quot;</td><td>&quot;2019-11-19&quot;</td><td>&quot;Non-count investor&quot;</td><td>&quot;Non-count investor&quot;</td><td>&quot;Small LLC&quot;</td><td>&quot;Non-Small LLC&quot;</td><td>&quot;Non-building investor&quot;</td><td>&quot;Non-building investor&quot;</td><td>35108.695652</td><td>&quot;Non-value investor&quot;</td><td>&quot;Non-value investor&quot;</td><td>0</td><td>0</td><td>0</td><td>1</td><td>0</td><td>&quot;Small&quot;</td><td>&quot;Non-investor&quot;</td><td>0</td><td>6.038356</td><td>23599.137931</td></tr><tr><td>&quot;1 Avery St #31B&quot;</td><td>&quot;Avery St&quot;</td><td>&quot;RCD&quot;</td><td>2013</td><td>3.475e6</td><td>&quot;08/29/08&quot;</td><td>3.05e6</td><td>0.0</td><td>102</td><td>&quot;CONDOMINIUM&quot;</td><td>&quot;HIGH-RISE&quot;</td><td>2000</td><td>7</td><td>5</td><td>3</td><td>2667</td><td>2667</td><td>&quot;2601:2700&quot;</td><td>&quot;U&quot;</td><td>2111</td><td>42.35337</td><td>-71.062515</td><td>2013</td><td>1</td><td>0</td><td>0</td><td>1</td><td>0</td><td>0</td><td>0</td><td>0</td><td>0</td><td>0</td><td>0</td><td>0</td><td>0</td><td>0</td><td>1826</td><td>0</td><td>0</td><td>0</td><td>425000.0</td><td>13.93</td><td>&quot;24+&quot;</td><td>&quot;Non-flip&quot;</td><td>&quot;2018-08-29&quot;</td><td>&quot;Non-count investor&quot;</td><td>&quot;Non-count investor&quot;</td><td>&quot;Non-Small LLC&quot;</td><td>&quot;Non-Small LLC&quot;</td><td>&quot;Non-building investor&quot;</td><td>&quot;Non-building investor&quot;</td><td>151086.956522</td><td>&quot;Small&quot;</td><td>&quot;Small&quot;</td><td>1</td><td>0</td><td>1</td><td>1</td><td>0</td><td>&quot;Small&quot;</td><td>&quot;Small&quot;</td><td>1</td><td>5.00274</td><td>84953.450164</td></tr><tr><td>&quot;1 Avery St #10D&quot;</td><td>&quot;Avery St&quot;</td><td>&quot;RCD&quot;</td><td>2009</td><td>845000.0</td><td>&quot;03/29/07&quot;</td><td>845000.0</td><td>0.0</td><td>102</td><td>&quot;CONDOMINIUM&quot;</td><td>&quot;HIGH-RISE&quot;</td><td>2000</td><td>4</td><td>2</td><td>2</td><td>1087</td><td>1087</td><td>&quot;1001:1100&quot;</td><td>&quot;U&quot;</td><td>2111</td><td>42.35337</td><td>-71.062515</td><td>2009</td><td>1</td><td>0</td><td>0</td><td>1</td><td>0</td><td>0</td><td>0</td><td>0</td><td>0</td><td>1</td><td>0</td><td>0</td><td>0</td><td>0</td><td>null</td><td>0</td><td>0</td><td>0</td><td>0.0</td><td>0.0</td><td>null</td><td>&quot;Non-flip&quot;</td><td>&quot;2014-04-30&quot;</td><td>&quot;Non-count investor&quot;</td><td>&quot;Non-count investor&quot;</td><td>&quot;Non-Small LLC&quot;</td><td>&quot;Non-Small LLC&quot;</td><td>&quot;Non-building investor&quot;</td><td>&quot;Non-building investor&quot;</td><td>36739.130435</td><td>&quot;Non-value investor&quot;</td><td>&quot;Non-value investor&quot;</td><td>0</td><td>0</td><td>0</td><td>1</td><td>0</td><td>&quot;Non-investor&quot;</td><td>&quot;Non-investor&quot;</td><td>0</td><td>null</td><td>null</td></tr><tr><td>&quot;1 Avery St #10B&quot;</td><td>&quot;Avery St&quot;</td><td>&quot;RCD&quot;</td><td>2010</td><td>1.085e6</td><td>&quot;08/28/02&quot;</td><td>1.125e6</td><td>0.0</td><td>102</td><td>&quot;CONDOMINIUM&quot;</td><td>&quot;HIGH-RISE&quot;</td><td>2000</td><td>6</td><td>3</td><td>2</td><td>1675</td><td>1675</td><td>&quot;1601:1700&quot;</td><td>&quot;U&quot;</td><td>2111</td><td>42.35337</td><td>-71.062515</td><td>2010</td><td>1</td><td>0</td><td>0</td><td>1</td><td>0</td><td>0</td><td>0</td><td>0</td><td>0</td><td>0</td><td>0</td><td>0</td><td>0</td><td>0</td><td>null</td><td>0</td><td>0</td><td>0</td><td>-40000.0</td><td>-3.56</td><td>null</td><td>&quot;Non-flip&quot;</td><td>&quot;2015-12-30&quot;</td><td>&quot;Non-count investor&quot;</td><td>&quot;Non-count investor&quot;</td><td>&quot;Non-Small LLC&quot;</td><td>&quot;Non-Small LLC&quot;</td><td>&quot;Non-building investor&quot;</td><td>&quot;Non-building investor&quot;</td><td>47173.913043</td><td>&quot;Non-value investor&quot;</td><td>&quot;Non-value investor&quot;</td><td>1</td><td>0</td><td>1</td><td>1</td><td>0</td><td>&quot;Non-investor&quot;</td><td>&quot;Non-investor&quot;</td><td>0</td><td>null</td><td>null</td></tr><tr><td>&hellip;</td><td>&hellip;</td><td>&hellip;</td><td>&hellip;</td><td>&hellip;</td><td>&hellip;</td><td>&hellip;</td><td>&hellip;</td><td>&hellip;</td><td>&hellip;</td><td>&hellip;</td><td>&hellip;</td><td>&hellip;</td><td>&hellip;</td><td>&hellip;</td><td>&hellip;</td><td>&hellip;</td><td>&hellip;</td><td>&hellip;</td><td>&hellip;</td><td>&hellip;</td><td>&hellip;</td><td>&hellip;</td><td>&hellip;</td><td>&hellip;</td><td>&hellip;</td><td>&hellip;</td><td>&hellip;</td><td>&hellip;</td><td>&hellip;</td><td>&hellip;</td><td>&hellip;</td><td>&hellip;</td><td>&hellip;</td><td>&hellip;</td><td>&hellip;</td><td>&hellip;</td><td>&hellip;</td><td>&hellip;</td><td>&hellip;</td><td>&hellip;</td><td>&hellip;</td><td>&hellip;</td><td>&hellip;</td><td>&hellip;</td><td>&hellip;</td><td>&hellip;</td><td>&hellip;</td><td>&hellip;</td><td>&hellip;</td><td>&hellip;</td><td>&hellip;</td><td>&hellip;</td><td>&hellip;</td><td>&hellip;</td><td>&hellip;</td><td>&hellip;</td><td>&hellip;</td><td>&hellip;</td><td>&hellip;</td><td>&hellip;</td><td>&hellip;</td><td>&hellip;</td><td>&hellip;</td><td>&hellip;</td></tr><tr><td>&quot;2 Clarendon St #310&quot;</td><td>&quot;Clarendon St&quot;</td><td>&quot;RCD&quot;</td><td>2017</td><td>1.21e6</td><td>&quot;03/13/15&quot;</td><td>890000.0</td><td>0.0</td><td>102</td><td>&quot;CONDOMINIUM&quot;</td><td>&quot;MID-RISE&quot;</td><td>1988</td><td>4</td><td>2</td><td>2</td><td>976</td><td>976</td><td>&quot;901:1000&quot;</td><td>&quot;U&quot;</td><td>2116</td><td>42.344091</td><td>-71.072116</td><td>2017</td><td>1</td><td>0</td><td>0</td><td>0</td><td>0</td><td>0</td><td>0</td><td>0</td><td>0</td><td>0</td><td>0</td><td>0</td><td>0</td><td>0</td><td>1004</td><td>0</td><td>0</td><td>0</td><td>320000.0</td><td>35.96</td><td>&quot;24+&quot;</td><td>&quot;Non-flip&quot;</td><td>&quot;2022-12-11&quot;</td><td>&quot;Non-count investor&quot;</td><td>&quot;Non-count investor&quot;</td><td>&quot;Non-Small LLC&quot;</td><td>&quot;Non-Small LLC&quot;</td><td>&quot;Non-building investor&quot;</td><td>&quot;Non-building investor&quot;</td><td>52608.695652</td><td>&quot;Non-value investor&quot;</td><td>&quot;Non-value investor&quot;</td><td>0</td><td>0</td><td>0</td><td>1</td><td>0</td><td>&quot;Non-investor&quot;</td><td>&quot;Non-investor&quot;</td><td>0</td><td>2.750685</td><td>116334.661355</td></tr><tr><td>&quot;8 Garrison St #507&quot;</td><td>&quot;Garrison St&quot;</td><td>&quot;RCD&quot;</td><td>2016</td><td>400000.0</td><td>&quot;11/30/16&quot;</td><td>400000.0</td><td>0.0</td><td>102</td><td>&quot;CONDOMINIUM&quot;</td><td>&quot;MID-RISE&quot;</td><td>1910</td><td>3</td><td>1</td><td>1</td><td>675</td><td>675</td><td>&quot;601:700&quot;</td><td>null</td><td>2116</td><td>42.346203</td><td>-71.079876</td><td>2016</td><td>1</td><td>0</td><td>0</td><td>0</td><td>0</td><td>0</td><td>0</td><td>0</td><td>0</td><td>0</td><td>0</td><td>0</td><td>0</td><td>0</td><td>23</td><td>1</td><td>0</td><td>1</td><td>0.0</td><td>0.0</td><td>&quot;0&quot;</td><td>&quot;Short-term&quot;</td><td>&quot;2021-12-23&quot;</td><td>&quot;Non-count investor&quot;</td><td>&quot;Non-count investor&quot;</td><td>&quot;Non-Small LLC&quot;</td><td>&quot;Non-Small LLC&quot;</td><td>&quot;Non-building investor&quot;</td><td>&quot;Non-building investor&quot;</td><td>34347.826087</td><td>&quot;Non-value investor&quot;</td><td>&quot;Non-value investor&quot;</td><td>0</td><td>0</td><td>0</td><td>2</td><td>0</td><td>&quot;Non-investor&quot;</td><td>&quot;Non-investor&quot;</td><td>0</td><td>0.063014</td><td>0.0</td></tr><tr><td>&quot;75 Warren Ave #1&quot;</td><td>&quot;Warren Ave&quot;</td><td>&quot;RCD&quot;</td><td>2019</td><td>654000.0</td><td>&quot;08/18/17&quot;</td><td>569000.0</td><td>387000.0</td><td>102</td><td>&quot;CONDOMINIUM&quot;</td><td>&quot;ROW-MIDDLE&quot;</td><td>1860</td><td>4</td><td>1</td><td>1</td><td>570</td><td>570</td><td>&quot;501:600&quot;</td><td>null</td><td>2116</td><td>42.344603</td><td>-71.073362</td><td>2019</td><td>0</td><td>0</td><td>0</td><td>0</td><td>0</td><td>0</td><td>0</td><td>0</td><td>0</td><td>0</td><td>0</td><td>0</td><td>0</td><td>0</td><td>679</td><td>1</td><td>0</td><td>1</td><td>85000.0</td><td>14.94</td><td>&quot;22&quot;</td><td>&quot;Long-term&quot;</td><td>&quot;2024-06-28&quot;</td><td>&quot;Non-count investor&quot;</td><td>&quot;Non-count investor&quot;</td><td>&quot;Non-Small LLC&quot;</td><td>&quot;Non-Small LLC&quot;</td><td>&quot;Non-building investor&quot;</td><td>&quot;Non-building investor&quot;</td><td>93652.173913</td><td>&quot;Non-value investor&quot;</td><td>&quot;Non-value investor&quot;</td><td>0</td><td>0</td><td>1</td><td>2</td><td>0</td><td>&quot;Non-investor&quot;</td><td>&quot;Non-investor&quot;</td><td>0</td><td>1.860274</td><td>45692.194404</td></tr><tr><td>&quot;193 W Canton St #1&quot;</td><td>&quot;W Canton St&quot;</td><td>&quot;RCD&quot;</td><td>2022</td><td>1.5e6</td><td>&quot;12/11/19&quot;</td><td>1.125e6</td><td>350400.0</td><td>102</td><td>&quot;CONDOMINIUM&quot;</td><td>&quot;ROW-MIDDLE&quot;</td><td>1880</td><td>5</td><td>2</td><td>2</td><td>1379</td><td>1379</td><td>&quot;1301:1400&quot;</td><td>&quot;EFU&quot;</td><td>2116</td><td>42.344378</td><td>-71.07616</td><td>2022</td><td>0</td><td>0</td><td>0</td><td>0</td><td>0</td><td>0</td><td>0</td><td>0</td><td>0</td><td>0</td><td>0</td><td>0</td><td>0</td><td>0</td><td>947</td><td>0</td><td>0</td><td>0</td><td>375000.0</td><td>33.33</td><td>&quot;24+&quot;</td><td>&quot;Non-flip&quot;</td><td>&quot;2027-07-15&quot;</td><td>&quot;Non-count investor&quot;</td><td>&quot;Non-count investor&quot;</td><td>&quot;Non-Small LLC&quot;</td><td>&quot;Non-Small LLC&quot;</td><td>&quot;Non-building investor&quot;</td><td>&quot;Non-building investor&quot;</td><td>93652.173913</td><td>&quot;Non-value investor&quot;</td><td>&quot;Non-value investor&quot;</td><td>1</td><td>0</td><td>1</td><td>2</td><td>0</td><td>&quot;Non-investor&quot;</td><td>&quot;Non-investor&quot;</td><td>0</td><td>2.594521</td><td>144535.374868</td></tr><tr><td>&quot;7 Stillman Pl #9&quot;</td><td>&quot;Stillman Pl&quot;</td><td>&quot;RCD&quot;</td><td>2020</td><td>740000.0</td><td>&quot;08/22/14&quot;</td><td>570000.0</td><td>440000.0</td><td>102</td><td>&quot;CONDOMINIUM&quot;</td><td>&quot;MID-RISE&quot;</td><td>1910</td><td>4</td><td>1</td><td>2</td><td>726</td><td>726</td><td>&quot;701:800&quot;</td><td>&quot;U&quot;</td><td>2113</td><td>42.363877</td><td>-71.057595</td><td>2020</td><td>0</td><td>0</td><td>0</td><td>0</td><td>0</td><td>0</td><td>0</td><td>0</td><td>0</td><td>0</td><td>0</td><td>0</td><td>0</td><td>0</td><td>2162</td><td>0</td><td>0</td><td>0</td><td>170000.0</td><td>29.82</td><td>&quot;24+&quot;</td><td>&quot;Non-flip&quot;</td><td>&quot;2025-07-23&quot;</td><td>&quot;Non-count investor&quot;</td><td>&quot;Non-count investor&quot;</td><td>&quot;Non-Small LLC&quot;</td><td>&quot;Non-Small LLC&quot;</td><td>&quot;Non-building investor&quot;</td><td>&quot;Non-building investor&quot;</td><td>32173.913043</td><td>&quot;Non-value investor&quot;</td><td>&quot;Non-value investor&quot;</td><td>1</td><td>0</td><td>1</td><td>1</td><td>0</td><td>&quot;Non-investor&quot;</td><td>&quot;Non-investor&quot;</td><td>0</td><td>5.923288</td><td>28700.277521</td></tr></tbody></table></div>"
      ],
      "text/plain": [
       "shape: (25_532, 65)\n",
       "┌────────────┬────────────┬──────────┬──────┬───┬────────────┬────────────┬────────────┬───────────┐\n",
       "│ address    ┆ street     ┆ proptype ┆ date ┆ … ┆ investor_t ┆ inv_to_inv ┆ flip_horiz ┆ yearly_re │\n",
       "│ ---        ┆ ---        ┆ ---      ┆ ---  ┆   ┆ ype_sale   ┆ ---        ┆ on_years   ┆ turn      │\n",
       "│ str        ┆ str        ┆ str      ┆ i64  ┆   ┆ ---        ┆ i64        ┆ ---        ┆ ---       │\n",
       "│            ┆            ┆          ┆      ┆   ┆ str        ┆            ┆ f64        ┆ f64       │\n",
       "╞════════════╪════════════╪══════════╪══════╪═══╪════════════╪════════════╪════════════╪═══════════╡\n",
       "│ 48         ┆ Commercial ┆ RCD      ┆ 2012 ┆ … ┆ Non-invest ┆ 0          ┆ 1.180822   ┆ 58433.874 │\n",
       "│ Commercial ┆ Wharf      ┆          ┆      ┆   ┆ or         ┆            ┆            ┆ 71        │\n",
       "│ Wharf #48  ┆            ┆          ┆      ┆   ┆            ┆            ┆            ┆           │\n",
       "│ 1 Charles  ┆ Charles St ┆ RCD      ┆ 2014 ┆ … ┆ Non-invest ┆ 0          ┆ 6.038356   ┆ 23599.137 │\n",
       "│ St S #902  ┆ S          ┆          ┆      ┆   ┆ or         ┆            ┆            ┆ 931       │\n",
       "│ 1 Avery St ┆ Avery St   ┆ RCD      ┆ 2013 ┆ … ┆ Small      ┆ 1          ┆ 5.00274    ┆ 84953.450 │\n",
       "│ #31B       ┆            ┆          ┆      ┆   ┆            ┆            ┆            ┆ 164       │\n",
       "│ 1 Avery St ┆ Avery St   ┆ RCD      ┆ 2009 ┆ … ┆ Non-invest ┆ 0          ┆ null       ┆ null      │\n",
       "│ #10D       ┆            ┆          ┆      ┆   ┆ or         ┆            ┆            ┆           │\n",
       "│ 1 Avery St ┆ Avery St   ┆ RCD      ┆ 2010 ┆ … ┆ Non-invest ┆ 0          ┆ null       ┆ null      │\n",
       "│ #10B       ┆            ┆          ┆      ┆   ┆ or         ┆            ┆            ┆           │\n",
       "│ …          ┆ …          ┆ …        ┆ …    ┆ … ┆ …          ┆ …          ┆ …          ┆ …         │\n",
       "│ 2          ┆ Clarendon  ┆ RCD      ┆ 2017 ┆ … ┆ Non-invest ┆ 0          ┆ 2.750685   ┆ 116334.66 │\n",
       "│ Clarendon  ┆ St         ┆          ┆      ┆   ┆ or         ┆            ┆            ┆ 1355      │\n",
       "│ St #310    ┆            ┆          ┆      ┆   ┆            ┆            ┆            ┆           │\n",
       "│ 8 Garrison ┆ Garrison   ┆ RCD      ┆ 2016 ┆ … ┆ Non-invest ┆ 0          ┆ 0.063014   ┆ 0.0       │\n",
       "│ St #507    ┆ St         ┆          ┆      ┆   ┆ or         ┆            ┆            ┆           │\n",
       "│ 75 Warren  ┆ Warren Ave ┆ RCD      ┆ 2019 ┆ … ┆ Non-invest ┆ 0          ┆ 1.860274   ┆ 45692.194 │\n",
       "│ Ave #1     ┆            ┆          ┆      ┆   ┆ or         ┆            ┆            ┆ 404       │\n",
       "│ 193 W      ┆ W Canton   ┆ RCD      ┆ 2022 ┆ … ┆ Non-invest ┆ 0          ┆ 2.594521   ┆ 144535.37 │\n",
       "│ Canton St  ┆ St         ┆          ┆      ┆   ┆ or         ┆            ┆            ┆ 4868      │\n",
       "│ #1         ┆            ┆          ┆      ┆   ┆            ┆            ┆            ┆           │\n",
       "│ 7 Stillman ┆ Stillman   ┆ RCD      ┆ 2020 ┆ … ┆ Non-invest ┆ 0          ┆ 5.923288   ┆ 28700.277 │\n",
       "│ Pl #9      ┆ Pl         ┆          ┆      ┆   ┆ or         ┆            ┆            ┆ 521       │\n",
       "└────────────┴────────────┴──────────┴──────┴───┴────────────┴────────────┴────────────┴───────────┘"
      ]
     },
     "execution_count": 127,
     "metadata": {},
     "output_type": "execute_result"
    }
   ],
   "source": [
    "def new_df():\n",
    "    df = pl.read_csv(dataset)\n",
    "    df = (\n",
    "        df.with_columns(\n",
    "            pl.col(\"date\").str.split(\"-\").list.get(0).cast(int).alias(\"date\")\n",
    "        )\n",
    "    )\n",
    "    df = df.with_columns(\n",
    "    (pl.col(\"flip_horizon\") / 365.0).alias(\"flip_horizon_years\")\n",
    "    )\n",
    "    df = df.with_columns(\n",
    "        (pl.col(\"price_diff\") / pl.col(\"flip_horizon_years\")).alias(\"yearly_return\")\n",
    "    )\n",
    "    df = df.filter(~pl.col(\"price_diff_pch\").is_null())\n",
    "    return df\n",
    "\n",
    "df = new_df()\n",
    "df"
   ]
  },
  {
   "cell_type": "code",
   "execution_count": 128,
   "id": "e033a225",
   "metadata": {},
   "outputs": [
    {
     "data": {
      "text/html": [
       "<div><style>\n",
       ".dataframe > thead > tr,\n",
       ".dataframe > tbody > tr {\n",
       "  text-align: right;\n",
       "  white-space: pre-wrap;\n",
       "}\n",
       "</style>\n",
       "<small>shape: (23, 2)</small><table border=\"1\" class=\"dataframe\"><thead><tr><th>year</th><th>price_diff_pch</th></tr><tr><td>i64</td><td>f64</td></tr></thead><tbody><tr><td>2000</td><td>22.55</td></tr><tr><td>2001</td><td>33.05</td></tr><tr><td>2002</td><td>17.03</td></tr><tr><td>2003</td><td>14.36</td></tr><tr><td>2004</td><td>14.15</td></tr><tr><td>&hellip;</td><td>&hellip;</td></tr><tr><td>2018</td><td>33.1</td></tr><tr><td>2019</td><td>32.29</td></tr><tr><td>2020</td><td>76.92</td></tr><tr><td>2021</td><td>57.165</td></tr><tr><td>2022</td><td>33.33</td></tr></tbody></table></div>"
      ],
      "text/plain": [
       "shape: (23, 2)\n",
       "┌──────┬────────────────┐\n",
       "│ year ┆ price_diff_pch │\n",
       "│ ---  ┆ ---            │\n",
       "│ i64  ┆ f64            │\n",
       "╞══════╪════════════════╡\n",
       "│ 2000 ┆ 22.55          │\n",
       "│ 2001 ┆ 33.05          │\n",
       "│ 2002 ┆ 17.03          │\n",
       "│ 2003 ┆ 14.36          │\n",
       "│ 2004 ┆ 14.15          │\n",
       "│ …    ┆ …              │\n",
       "│ 2018 ┆ 33.1           │\n",
       "│ 2019 ┆ 32.29          │\n",
       "│ 2020 ┆ 76.92          │\n",
       "│ 2021 ┆ 57.165         │\n",
       "│ 2022 ┆ 33.33          │\n",
       "└──────┴────────────────┘"
      ]
     },
     "execution_count": 128,
     "metadata": {},
     "output_type": "execute_result"
    }
   ],
   "source": [
    "# All transactions\n",
    "# Wow, large and institutional ones make a lot of money\n",
    "target_set = [\"Large\", \"Institutional\"]\n",
    "rich_investor_sales =  df.filter(pl.col(\"investor_type_sale\").is_in(target_set))\n",
    "rich_investor_sales = rich_investor_sales.with_columns(\n",
    "    pl.lit(True).alias(\"isLarge\")\n",
    ")\n",
    "\n",
    "rich_investor_sales.group_by([\"year\"]).agg(\n",
    "    pl.col(\"price_diff_pch\").median()\n",
    ").sort(\"year\")"
   ]
  },
  {
   "cell_type": "code",
   "execution_count": 129,
   "id": "e37a2eba",
   "metadata": {},
   "outputs": [
    {
     "data": {
      "text/html": [
       "<div><style>\n",
       ".dataframe > thead > tr,\n",
       ".dataframe > tbody > tr {\n",
       "  text-align: right;\n",
       "  white-space: pre-wrap;\n",
       "}\n",
       "</style>\n",
       "<small>shape: (77, 66)</small><table border=\"1\" class=\"dataframe\"><thead><tr><th>address</th><th>street</th><th>proptype</th><th>date</th><th>price</th><th>prsldate</th><th>prslpr</th><th>mortgage</th><th>usecode</th><th>usage</th><th>style</th><th>yearbuilt</th><th>totrooms</th><th>bathrooms</th><th>bedrooms</th><th>lotsize</th><th>intersf</th><th>lasqbin</th><th>amenity</th><th>zip</th><th>lat</th><th>lon</th><th>year</th><th>cash_sale</th><th>buyer_llc_ind</th><th>buyer_bus_ind</th><th>buyer_trst_ind</th><th>buyer_bnk_ind</th><th>buyer_gse_ind</th><th>buyer_gov_ind</th><th>seller_llc_ind</th><th>seller_llp_ind</th><th>seller_bus_ind</th><th>seller_trst_ind</th><th>seller_bnk_ind</th><th>seller_gse_ind</th><th>seller_gov_ind</th><th>flip_horizon</th><th>flip_ind</th><th>buy_side_flip</th><th>sell_side_flip</th><th>price_diff</th><th>price_diff_pch</th><th>month_horizon</th><th>flip_term</th><th>buy_horizon</th><th>investor_type_purchase_count</th><th>investor_type_sale_count</th><th>investor_type_purchase_llc</th><th>investor_type_sale_llc</th><th>investor_type_purchase_building</th><th>investor_type_sale_building</th><th>avg_annual_value</th><th>investor_type_purchase_value</th><th>investor_type_sale_value</th><th>current_owner</th><th>restype_R1F</th><th>tot_owned</th><th>buyer_purchases</th><th>R1F_total</th><th>investor_type_purchase</th><th>investor_type_sale</th><th>inv_to_inv</th><th>flip_horizon_years</th><th>yearly_return</th><th>isLarge</th></tr><tr><td>str</td><td>str</td><td>str</td><td>i64</td><td>f64</td><td>str</td><td>f64</td><td>f64</td><td>i64</td><td>str</td><td>str</td><td>i64</td><td>i64</td><td>i64</td><td>i64</td><td>i64</td><td>i64</td><td>str</td><td>str</td><td>i64</td><td>f64</td><td>f64</td><td>i64</td><td>i64</td><td>i64</td><td>i64</td><td>i64</td><td>i64</td><td>i64</td><td>i64</td><td>i64</td><td>i64</td><td>i64</td><td>i64</td><td>i64</td><td>i64</td><td>i64</td><td>i64</td><td>i64</td><td>i64</td><td>i64</td><td>f64</td><td>f64</td><td>str</td><td>str</td><td>str</td><td>str</td><td>str</td><td>str</td><td>str</td><td>str</td><td>str</td><td>f64</td><td>str</td><td>str</td><td>i64</td><td>i64</td><td>i64</td><td>i64</td><td>i64</td><td>str</td><td>str</td><td>i64</td><td>f64</td><td>f64</td><td>bool</td></tr></thead><tbody><tr><td>&quot;245 Summer St&quot;</td><td>&quot;Summer St&quot;</td><td>&quot;COM&quot;</td><td>2020</td><td>7.285e8</td><td>&quot;10/14/04&quot;</td><td>3.07e7</td><td>6.84e8</td><td>340</td><td>&quot;GEN OFFICE&quot;</td><td>null</td><td>1974</td><td>0</td><td>0</td><td>0</td><td>79701</td><td>910460</td><td>&quot;910401:910500&quot;</td><td>null</td><td>2210</td><td>42.351354</td><td>-71.052911</td><td>2020</td><td>0</td><td>1</td><td>0</td><td>0</td><td>0</td><td>0</td><td>0</td><td>0</td><td>0</td><td>0</td><td>0</td><td>0</td><td>0</td><td>0</td><td>5655</td><td>0</td><td>0</td><td>0</td><td>6.978e8</td><td>2272.96</td><td>&quot;24+&quot;</td><td>&quot;Non-flip&quot;</td><td>&quot;2025-04-08&quot;</td><td>&quot;Non-count investor&quot;</td><td>&quot;Non-count investor&quot;</td><td>&quot;Small LLC&quot;</td><td>&quot;Non-Small LLC&quot;</td><td>&quot;Non-building investor&quot;</td><td>&quot;Non-building investor&quot;</td><td>3.1674e7</td><td>&quot;Institutional&quot;</td><td>&quot;Institutional&quot;</td><td>1</td><td>null</td><td>1</td><td>1</td><td>null</td><td>&quot;Institutional&quot;</td><td>&quot;Institutional&quot;</td><td>1</td><td>15.493151</td><td>4.5039e7</td><td>true</td></tr><tr><td>&quot;242 Beacon St #8&quot;</td><td>&quot;Beacon St&quot;</td><td>&quot;RCD&quot;</td><td>2020</td><td>2.2e6</td><td>&quot;04/09/18&quot;</td><td>1.95e6</td><td>0.0</td><td>102</td><td>&quot;CONDOMINIUM&quot;</td><td>&quot;ROW-MIDDLE&quot;</td><td>1884</td><td>6</td><td>3</td><td>3</td><td>1986</td><td>1986</td><td>&quot;1901:2000&quot;</td><td>&quot;U&quot;</td><td>2116</td><td>42.353416</td><td>-71.079975</td><td>2020</td><td>1</td><td>0</td><td>0</td><td>0</td><td>0</td><td>0</td><td>0</td><td>0</td><td>0</td><td>0</td><td>0</td><td>0</td><td>0</td><td>0</td><td>809</td><td>0</td><td>0</td><td>0</td><td>250000.0</td><td>12.82</td><td>&quot;24+&quot;</td><td>&quot;Non-flip&quot;</td><td>&quot;2025-06-26&quot;</td><td>&quot;Non-count investor&quot;</td><td>&quot;Large&quot;</td><td>&quot;Non-Small LLC&quot;</td><td>&quot;Non-Small LLC&quot;</td><td>&quot;Non-building investor&quot;</td><td>&quot;Non-building investor&quot;</td><td>95652.173913</td><td>&quot;Non-value investor&quot;</td><td>&quot;Non-value investor&quot;</td><td>0</td><td>0</td><td>0</td><td>1</td><td>0</td><td>&quot;Non-investor&quot;</td><td>&quot;Large&quot;</td><td>0</td><td>2.216438</td><td>112793.572311</td><td>true</td></tr><tr><td>&quot;400 Stuart St #15A&quot;</td><td>&quot;Stuart St&quot;</td><td>&quot;RCD&quot;</td><td>2020</td><td>2.195e6</td><td>&quot;06/27/16&quot;</td><td>2.25e6</td><td>1.756e6</td><td>102</td><td>&quot;CONDOMINIUM&quot;</td><td>&quot;HIGH-RISE&quot;</td><td>2009</td><td>4</td><td>2</td><td>2</td><td>1409</td><td>1409</td><td>&quot;1401:1500&quot;</td><td>&quot;U&quot;</td><td>2116</td><td>42.348853</td><td>-71.074296</td><td>2020</td><td>0</td><td>0</td><td>0</td><td>0</td><td>0</td><td>0</td><td>0</td><td>0</td><td>0</td><td>0</td><td>0</td><td>0</td><td>0</td><td>0</td><td>1645</td><td>0</td><td>0</td><td>0</td><td>-55000.0</td><td>-2.44</td><td>&quot;24+&quot;</td><td>&quot;Non-flip&quot;</td><td>&quot;2025-12-28&quot;</td><td>&quot;Non-count investor&quot;</td><td>&quot;Large&quot;</td><td>&quot;Non-Small LLC&quot;</td><td>&quot;Non-Small LLC&quot;</td><td>&quot;Non-building investor&quot;</td><td>&quot;Non-building investor&quot;</td><td>95434.782609</td><td>&quot;Non-value investor&quot;</td><td>&quot;Non-value investor&quot;</td><td>1</td><td>0</td><td>1</td><td>1</td><td>0</td><td>&quot;Non-investor&quot;</td><td>&quot;Large&quot;</td><td>0</td><td>4.506849</td><td>-12203.647416</td><td>true</td></tr><tr><td>&quot;175 Beacon St&quot;</td><td>&quot;Beacon St&quot;</td><td>&quot;R1F&quot;</td><td>2020</td><td>1.175e7</td><td>&quot;09/06/17&quot;</td><td>6.3e6</td><td>0.0</td><td>101</td><td>&quot;1-FAM RES&quot;</td><td>&quot;ROW-MIDDLE&quot;</td><td>1905</td><td>11</td><td>7</td><td>4</td><td>2016</td><td>7109</td><td>&quot;7101:7200&quot;</td><td>&quot;U&quot;</td><td>2116</td><td>42.354449</td><td>-71.075838</td><td>2020</td><td>1</td><td>1</td><td>0</td><td>0</td><td>0</td><td>0</td><td>0</td><td>1</td><td>0</td><td>0</td><td>0</td><td>0</td><td>0</td><td>0</td><td>1133</td><td>0</td><td>0</td><td>0</td><td>5.45e6</td><td>86.51</td><td>&quot;24+&quot;</td><td>&quot;Non-flip&quot;</td><td>&quot;2025-10-13&quot;</td><td>&quot;Non-count investor&quot;</td><td>&quot;Non-count investor&quot;</td><td>&quot;Small LLC&quot;</td><td>&quot;Small LLC&quot;</td><td>&quot;Non-building investor&quot;</td><td>&quot;Non-building investor&quot;</td><td>510869.565217</td><td>&quot;Non-value investor&quot;</td><td>&quot;Large&quot;</td><td>1</td><td>1</td><td>1</td><td>1</td><td>1</td><td>&quot;Small&quot;</td><td>&quot;Large&quot;</td><td>1</td><td>3.10411</td><td>1.7557e6</td><td>true</td></tr><tr><td>&quot;34 Fayette St #2&quot;</td><td>&quot;Fayette St&quot;</td><td>&quot;RCD&quot;</td><td>2020</td><td>1.875e6</td><td>&quot;05/17/18&quot;</td><td>1.58e6</td><td>1.275e6</td><td>102</td><td>&quot;CONDOMINIUM&quot;</td><td>&quot;ROW-END&quot;</td><td>1899</td><td>6</td><td>4</td><td>3</td><td>1832</td><td>1832</td><td>&quot;1801:1900&quot;</td><td>&quot;U&quot;</td><td>2116</td><td>42.348545</td><td>-71.067824</td><td>2020</td><td>0</td><td>0</td><td>0</td><td>0</td><td>0</td><td>0</td><td>0</td><td>0</td><td>0</td><td>0</td><td>0</td><td>0</td><td>0</td><td>0</td><td>805</td><td>0</td><td>0</td><td>0</td><td>295000.0</td><td>18.67</td><td>&quot;24+&quot;</td><td>&quot;Non-flip&quot;</td><td>&quot;2025-07-30&quot;</td><td>&quot;Non-count investor&quot;</td><td>&quot;Institutional&quot;</td><td>&quot;Non-Small LLC&quot;</td><td>&quot;Small LLC&quot;</td><td>&quot;Non-building investor&quot;</td><td>&quot;Non-building investor&quot;</td><td>170697.826087</td><td>&quot;Small&quot;</td><td>&quot;Small&quot;</td><td>1</td><td>0</td><td>2</td><td>5</td><td>2</td><td>&quot;Small&quot;</td><td>&quot;Institutional&quot;</td><td>1</td><td>2.205479</td><td>133757.763975</td><td>true</td></tr><tr><td>&hellip;</td><td>&hellip;</td><td>&hellip;</td><td>&hellip;</td><td>&hellip;</td><td>&hellip;</td><td>&hellip;</td><td>&hellip;</td><td>&hellip;</td><td>&hellip;</td><td>&hellip;</td><td>&hellip;</td><td>&hellip;</td><td>&hellip;</td><td>&hellip;</td><td>&hellip;</td><td>&hellip;</td><td>&hellip;</td><td>&hellip;</td><td>&hellip;</td><td>&hellip;</td><td>&hellip;</td><td>&hellip;</td><td>&hellip;</td><td>&hellip;</td><td>&hellip;</td><td>&hellip;</td><td>&hellip;</td><td>&hellip;</td><td>&hellip;</td><td>&hellip;</td><td>&hellip;</td><td>&hellip;</td><td>&hellip;</td><td>&hellip;</td><td>&hellip;</td><td>&hellip;</td><td>&hellip;</td><td>&hellip;</td><td>&hellip;</td><td>&hellip;</td><td>&hellip;</td><td>&hellip;</td><td>&hellip;</td><td>&hellip;</td><td>&hellip;</td><td>&hellip;</td><td>&hellip;</td><td>&hellip;</td><td>&hellip;</td><td>&hellip;</td><td>&hellip;</td><td>&hellip;</td><td>&hellip;</td><td>&hellip;</td><td>&hellip;</td><td>&hellip;</td><td>&hellip;</td><td>&hellip;</td><td>&hellip;</td><td>&hellip;</td><td>&hellip;</td><td>&hellip;</td><td>&hellip;</td><td>&hellip;</td><td>&hellip;</td></tr><tr><td>&quot;8-8A Newbury St&quot;</td><td>&quot;Newbury St&quot;</td><td>&quot;COM&quot;</td><td>2020</td><td>4.245e7</td><td>&quot;06/20/13&quot;</td><td>1.515e7</td><td>0.0</td><td>340</td><td>&quot;GEN OFFICE&quot;</td><td>null</td><td>1899</td><td>0</td><td>0</td><td>0</td><td>3136</td><td>18958</td><td>&quot;18901:19000&quot;</td><td>null</td><td>2116</td><td>42.352513</td><td>-71.071324</td><td>2020</td><td>1</td><td>0</td><td>1</td><td>0</td><td>0</td><td>0</td><td>0</td><td>1</td><td>0</td><td>0</td><td>0</td><td>0</td><td>0</td><td>0</td><td>2596</td><td>0</td><td>0</td><td>0</td><td>2.73e7</td><td>180.2</td><td>&quot;24+&quot;</td><td>&quot;Non-flip&quot;</td><td>&quot;2025-07-29&quot;</td><td>&quot;Non-count investor&quot;</td><td>&quot;Non-count investor&quot;</td><td>&quot;Non-Small LLC&quot;</td><td>&quot;Small LLC&quot;</td><td>&quot;Non-building investor&quot;</td><td>&quot;Non-building investor&quot;</td><td>1.8457e6</td><td>&quot;Large&quot;</td><td>&quot;Large&quot;</td><td>1</td><td>null</td><td>1</td><td>1</td><td>null</td><td>&quot;Large&quot;</td><td>&quot;Large&quot;</td><td>1</td><td>7.112329</td><td>3.8384e6</td><td>true</td></tr><tr><td>&quot;28 Concord Sq #1&quot;</td><td>&quot;Concord Sq&quot;</td><td>&quot;RCD&quot;</td><td>2020</td><td>3.625e6</td><td>&quot;01/18/19&quot;</td><td>3.3e6</td><td>1.63925e6</td><td>102</td><td>&quot;CONDOMINIUM&quot;</td><td>&quot;ROW-MIDDLE&quot;</td><td>1899</td><td>5</td><td>4</td><td>3</td><td>1297</td><td>2619</td><td>&quot;2601:2700&quot;</td><td>&quot;U&quot;</td><td>2118</td><td>42.341348</td><td>-71.079032</td><td>2020</td><td>0</td><td>0</td><td>0</td><td>0</td><td>0</td><td>0</td><td>0</td><td>1</td><td>0</td><td>0</td><td>0</td><td>0</td><td>0</td><td>0</td><td>559</td><td>1</td><td>0</td><td>1</td><td>325000.0</td><td>9.85</td><td>&quot;18&quot;</td><td>&quot;Long-term&quot;</td><td>&quot;2025-07-30&quot;</td><td>&quot;Non-count investor&quot;</td><td>&quot;Large&quot;</td><td>&quot;Non-Small LLC&quot;</td><td>&quot;Small LLC&quot;</td><td>&quot;Non-building investor&quot;</td><td>&quot;Non-building investor&quot;</td><td>225978.26087</td><td>&quot;Medium&quot;</td><td>&quot;Medium&quot;</td><td>1</td><td>0</td><td>4</td><td>5</td><td>4</td><td>&quot;Medium&quot;</td><td>&quot;Large&quot;</td><td>1</td><td>1.531507</td><td>212209.302326</td><td>true</td></tr><tr><td>&quot;458 Beacon St #6&quot;</td><td>&quot;Beacon St&quot;</td><td>&quot;RCD&quot;</td><td>2020</td><td>1.56e6</td><td>&quot;07/28/06&quot;</td><td>885000.0</td><td>0.0</td><td>102</td><td>&quot;CONDOMINIUM&quot;</td><td>&quot;ROW-MIDDLE&quot;</td><td>1880</td><td>5</td><td>2</td><td>2</td><td>1252</td><td>1252</td><td>&quot;1201:1300&quot;</td><td>&quot;G&quot;</td><td>2115</td><td>42.351456</td><td>-71.087596</td><td>2020</td><td>1</td><td>0</td><td>0</td><td>0</td><td>0</td><td>0</td><td>0</td><td>1</td><td>0</td><td>0</td><td>0</td><td>0</td><td>0</td><td>0</td><td>5054</td><td>0</td><td>0</td><td>0</td><td>675000.0</td><td>76.27</td><td>&quot;24+&quot;</td><td>&quot;Non-flip&quot;</td><td>&quot;2025-05-29&quot;</td><td>&quot;Large&quot;</td><td>&quot;Non-count investor&quot;</td><td>&quot;Non-Small LLC&quot;</td><td>&quot;Small LLC&quot;</td><td>&quot;Non-building investor&quot;</td><td>&quot;Non-building investor&quot;</td><td>631600.0</td><td>&quot;Large&quot;</td><td>&quot;Large&quot;</td><td>1</td><td>0</td><td>7</td><td>19</td><td>16</td><td>&quot;Large&quot;</td><td>&quot;Large&quot;</td><td>1</td><td>13.846575</td><td>48748.516027</td><td>true</td></tr><tr><td>&quot;160 Commonwealth Ave #216&quot;</td><td>&quot;Commonwealth Ave&quot;</td><td>&quot;RCD&quot;</td><td>2020</td><td>480000.0</td><td>&quot;04/30/04&quot;</td><td>297000.0</td><td>360000.0</td><td>102</td><td>&quot;CONDOMINIUM&quot;</td><td>&quot;MID-RISE&quot;</td><td>1881</td><td>2</td><td>1</td><td>1</td><td>460</td><td>460</td><td>&quot;401:500&quot;</td><td>&quot;U&quot;</td><td>2116</td><td>42.351537</td><td>-71.078204</td><td>2020</td><td>0</td><td>0</td><td>0</td><td>0</td><td>0</td><td>0</td><td>0</td><td>1</td><td>0</td><td>0</td><td>0</td><td>0</td><td>0</td><td>0</td><td>6062</td><td>0</td><td>0</td><td>0</td><td>183000.0</td><td>61.62</td><td>&quot;24+&quot;</td><td>&quot;Non-flip&quot;</td><td>&quot;2025-12-04&quot;</td><td>&quot;Large&quot;</td><td>&quot;Non-count investor&quot;</td><td>&quot;Non-Small LLC&quot;</td><td>&quot;Small LLC&quot;</td><td>&quot;Building Investor&quot;</td><td>&quot;Non-building investor&quot;</td><td>485840.0</td><td>&quot;Large&quot;</td><td>&quot;Large&quot;</td><td>1</td><td>0</td><td>8</td><td>16</td><td>null</td><td>&quot;Large&quot;</td><td>&quot;Large&quot;</td><td>1</td><td>16.608219</td><td>11018.640713</td><td>true</td></tr><tr><td>&quot;306 Commonwealth Ave #5&quot;</td><td>&quot;Commonwealth Ave&quot;</td><td>&quot;RCD&quot;</td><td>2020</td><td>1.36e6</td><td>&quot;03/05/19&quot;</td><td>865000.0</td><td>0.0</td><td>102</td><td>&quot;CONDOMINIUM&quot;</td><td>&quot;ROW-MIDDLE&quot;</td><td>1886</td><td>4</td><td>2</td><td>1</td><td>1072</td><td>1072</td><td>&quot;1001:1100&quot;</td><td>null</td><td>2115</td><td>42.34953</td><td>-71.085671</td><td>2020</td><td>1</td><td>0</td><td>0</td><td>0</td><td>0</td><td>0</td><td>0</td><td>1</td><td>0</td><td>0</td><td>0</td><td>0</td><td>0</td><td>0</td><td>373</td><td>1</td><td>0</td><td>1</td><td>495000.0</td><td>57.23</td><td>&quot;12&quot;</td><td>&quot;Long-term&quot;</td><td>&quot;2025-03-12&quot;</td><td>&quot;Large&quot;</td><td>&quot;Non-count investor&quot;</td><td>&quot;Non-Small LLC&quot;</td><td>&quot;Small LLC&quot;</td><td>&quot;Non-building investor&quot;</td><td>&quot;Non-building investor&quot;</td><td>517826.086957</td><td>&quot;Large&quot;</td><td>&quot;Large&quot;</td><td>1</td><td>0</td><td>7</td><td>7</td><td>1</td><td>&quot;Large&quot;</td><td>&quot;Large&quot;</td><td>1</td><td>1.021918</td><td>484383.378016</td><td>true</td></tr></tbody></table></div>"
      ],
      "text/plain": [
       "shape: (77, 66)\n",
       "┌─────────────┬─────────────┬──────────┬──────┬───┬────────────┬────────────┬────────────┬─────────┐\n",
       "│ address     ┆ street      ┆ proptype ┆ date ┆ … ┆ inv_to_inv ┆ flip_horiz ┆ yearly_ret ┆ isLarge │\n",
       "│ ---         ┆ ---         ┆ ---      ┆ ---  ┆   ┆ ---        ┆ on_years   ┆ urn        ┆ ---     │\n",
       "│ str         ┆ str         ┆ str      ┆ i64  ┆   ┆ i64        ┆ ---        ┆ ---        ┆ bool    │\n",
       "│             ┆             ┆          ┆      ┆   ┆            ┆ f64        ┆ f64        ┆         │\n",
       "╞═════════════╪═════════════╪══════════╪══════╪═══╪════════════╪════════════╪════════════╪═════════╡\n",
       "│ 245 Summer  ┆ Summer St   ┆ COM      ┆ 2020 ┆ … ┆ 1          ┆ 15.493151  ┆ 4.5039e7   ┆ true    │\n",
       "│ St          ┆             ┆          ┆      ┆   ┆            ┆            ┆            ┆         │\n",
       "│ 242 Beacon  ┆ Beacon St   ┆ RCD      ┆ 2020 ┆ … ┆ 0          ┆ 2.216438   ┆ 112793.572 ┆ true    │\n",
       "│ St #8       ┆             ┆          ┆      ┆   ┆            ┆            ┆ 311        ┆         │\n",
       "│ 400 Stuart  ┆ Stuart St   ┆ RCD      ┆ 2020 ┆ … ┆ 0          ┆ 4.506849   ┆ -12203.647 ┆ true    │\n",
       "│ St #15A     ┆             ┆          ┆      ┆   ┆            ┆            ┆ 416        ┆         │\n",
       "│ 175 Beacon  ┆ Beacon St   ┆ R1F      ┆ 2020 ┆ … ┆ 1          ┆ 3.10411    ┆ 1.7557e6   ┆ true    │\n",
       "│ St          ┆             ┆          ┆      ┆   ┆            ┆            ┆            ┆         │\n",
       "│ 34 Fayette  ┆ Fayette St  ┆ RCD      ┆ 2020 ┆ … ┆ 1          ┆ 2.205479   ┆ 133757.763 ┆ true    │\n",
       "│ St #2       ┆             ┆          ┆      ┆   ┆            ┆            ┆ 975        ┆         │\n",
       "│ …           ┆ …           ┆ …        ┆ …    ┆ … ┆ …          ┆ …          ┆ …          ┆ …       │\n",
       "│ 8-8A        ┆ Newbury St  ┆ COM      ┆ 2020 ┆ … ┆ 1          ┆ 7.112329   ┆ 3.8384e6   ┆ true    │\n",
       "│ Newbury St  ┆             ┆          ┆      ┆   ┆            ┆            ┆            ┆         │\n",
       "│ 28 Concord  ┆ Concord Sq  ┆ RCD      ┆ 2020 ┆ … ┆ 1          ┆ 1.531507   ┆ 212209.302 ┆ true    │\n",
       "│ Sq #1       ┆             ┆          ┆      ┆   ┆            ┆            ┆ 326        ┆         │\n",
       "│ 458 Beacon  ┆ Beacon St   ┆ RCD      ┆ 2020 ┆ … ┆ 1          ┆ 13.846575  ┆ 48748.5160 ┆ true    │\n",
       "│ St #6       ┆             ┆          ┆      ┆   ┆            ┆            ┆ 27         ┆         │\n",
       "│ 160 Commonw ┆ Commonwealt ┆ RCD      ┆ 2020 ┆ … ┆ 1          ┆ 16.608219  ┆ 11018.6407 ┆ true    │\n",
       "│ ealth Ave   ┆ h Ave       ┆          ┆      ┆   ┆            ┆            ┆ 13         ┆         │\n",
       "│ #216        ┆             ┆          ┆      ┆   ┆            ┆            ┆            ┆         │\n",
       "│ 306 Commonw ┆ Commonwealt ┆ RCD      ┆ 2020 ┆ … ┆ 1          ┆ 1.021918   ┆ 484383.378 ┆ true    │\n",
       "│ ealth Ave   ┆ h Ave       ┆          ┆      ┆   ┆            ┆            ┆ 016        ┆         │\n",
       "│ #5          ┆             ┆          ┆      ┆   ┆            ┆            ┆            ┆         │\n",
       "└─────────────┴─────────────┴──────────┴──────┴───┴────────────┴────────────┴────────────┴─────────┘"
      ]
     },
     "execution_count": 129,
     "metadata": {},
     "output_type": "execute_result"
    }
   ],
   "source": [
    "rich_investor_sales.filter(pl.col(\"year\") == 2020)"
   ]
  },
  {
   "cell_type": "markdown",
   "id": "3d337770",
   "metadata": {},
   "source": []
  }
 ],
 "metadata": {
  "kernelspec": {
   "display_name": "3.11.3",
   "language": "python",
   "name": "python3"
  },
  "language_info": {
   "codemirror_mode": {
    "name": "ipython",
    "version": 3
   },
   "file_extension": ".py",
   "mimetype": "text/x-python",
   "name": "python",
   "nbconvert_exporter": "python",
   "pygments_lexer": "ipython3",
   "version": "3.11.3"
  }
 },
 "nbformat": 4,
 "nbformat_minor": 5
}
