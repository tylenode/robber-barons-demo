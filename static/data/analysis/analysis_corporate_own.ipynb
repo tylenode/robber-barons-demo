{
 "cells": [
  {
   "cell_type": "code",
   "execution_count": 50,
   "id": "3d399cfb",
   "metadata": {},
   "outputs": [],
   "source": [
    "dataset = 'corperate.csv'\n",
    "import polars as pl"
   ]
  },
  {
   "cell_type": "code",
   "execution_count": 51,
   "id": "2f8444ec",
   "metadata": {},
   "outputs": [
    {
     "data": {
      "text/plain": [
       "21"
      ]
     },
     "execution_count": 51,
     "metadata": {},
     "output_type": "execute_result"
    }
   ],
   "source": [
    "def new_df():\n",
    "    df = pl.read_csv(dataset)\n",
    "    # Group by Year and calculate mean (already in decimal form)\n",
    "    return df.sort(\"Year\")\n",
    "\n",
    "df = new_df()\n",
    "len(list(df[\"Neighborhood\"].unique()))\n"
   ]
  },
  {
   "cell_type": "code",
   "execution_count": 52,
   "id": "80e695a5",
   "metadata": {},
   "outputs": [],
   "source": [
    "df = df.group_by(\"Year\").agg(\n",
    "    (pl.col(\"corp_own_rate\").mean() * 100)        # Multiply mean by 100\n",
    "    .round(1)                                     # Round to 1 decimal place\n",
    "    .alias(\"mean_corp_own_rate\")                  # Name the column\n",
    ")"
   ]
  },
  {
   "cell_type": "code",
   "execution_count": 53,
   "id": "a7b9086f",
   "metadata": {},
   "outputs": [
    {
     "data": {
      "text/plain": [
       "{2004: 5.5,\n",
       " 2005: 6.2,\n",
       " 2006: 6.4,\n",
       " 2007: 6.8,\n",
       " 2008: 7.2,\n",
       " 2009: 7.1,\n",
       " 2010: 7.9,\n",
       " 2011: 8.1,\n",
       " 2012: 8.1,\n",
       " 2013: 8.7,\n",
       " 2014: 8.8,\n",
       " 2015: 9.5,\n",
       " 2016: 9.9,\n",
       " 2017: 11.4,\n",
       " 2018: 12.3,\n",
       " 2019: 13.6,\n",
       " 2020: 17.4,\n",
       " 2021: 19.9,\n",
       " 2022: 20.7,\n",
       " 2023: 22.9,\n",
       " 2024: 25.3}"
      ]
     },
     "execution_count": 53,
     "metadata": {},
     "output_type": "execute_result"
    }
   ],
   "source": [
    "# convert to list\n",
    "def to_list(df):\n",
    "    a = df.select(pl.col(\"Year\")).to_series().to_list()\n",
    "    b = df.select(pl.col(\"mean_corp_own_rate\")).to_series().to_list()\n",
    "    return {i: j for i, j in zip(a, b)}\n",
    "# I added a value for 2025 (used 2024)\n",
    "# made 2024 value of 2024-07-01\n",
    "to_list(df)"
   ]
  }
 ],
 "metadata": {
  "kernelspec": {
   "display_name": "3.11.3",
   "language": "python",
   "name": "python3"
  },
  "language_info": {
   "codemirror_mode": {
    "name": "ipython",
    "version": 3
   },
   "file_extension": ".py",
   "mimetype": "text/x-python",
   "name": "python",
   "nbconvert_exporter": "python",
   "pygments_lexer": "ipython3",
   "version": "3.11.3"
  }
 },
 "nbformat": 4,
 "nbformat_minor": 5
}
